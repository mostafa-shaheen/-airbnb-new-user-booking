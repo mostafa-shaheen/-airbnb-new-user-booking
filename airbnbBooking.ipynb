{
  "nbformat": 4,
  "nbformat_minor": 0,
  "metadata": {
    "colab": {
      "name": "airbnbBooking",
      "provenance": [],
      "collapsed_sections": [
        "RRAcC-l_9Uam",
        "xg87geQY852a",
        "7wXSNZ30Hd4S",
        "A4TFJoEiNG4O",
        "J31f1HKmtE9I",
        "9Yv1JJ_ivTks",
        "hckoONZN4jqB",
        "BMHOZetcvxma",
        "on4kQk2JF2zq",
        "OD8VStrWYS0T"
      ],
      "toc_visible": true,
      "machine_shape": "hm"
    },
    "kernelspec": {
      "name": "python3",
      "display_name": "Python 3"
    },
    "accelerator": "GPU"
  },
  "cells": [
    {
      "cell_type": "code",
      "metadata": {
        "id": "FBulPlaYHa7M",
        "colab_type": "code",
        "colab": {}
      },
      "source": [
        "import matplotlib.pyplot as plt\n",
        "import seaborn as sns\n",
        "\n",
        "# Draw inline\n",
        "%matplotlib inline\n",
        "\n",
        "# Set figure aesthetics\n",
        "sns.set_style(\"white\", {'ytick.major.size': 10.0})\n",
        "sns.set_context(\"poster\", font_scale=1.1)"
      ],
      "execution_count": 0,
      "outputs": []
    },
    {
      "cell_type": "code",
      "metadata": {
        "id": "B-1fNPs7LHTX",
        "colab_type": "code",
        "colab": {}
      },
      "source": [
        "import os\n",
        "os.environ['KAGGLE_USERNAME'] = \"mostafa77\" # username from the json file\n",
        "os.environ['KAGGLE_KEY'] = \"347368f5c64dba7e88eaa79d996db0ec\" # key from the json file"
      ],
      "execution_count": 0,
      "outputs": []
    },
    {
      "cell_type": "code",
      "metadata": {
        "id": "r7hkOWb2LAnJ",
        "colab_type": "code",
        "colab": {}
      },
      "source": [
        "!kaggle competitions download -c airbnb-recruiting-new-user-bookings"
      ],
      "execution_count": 0,
      "outputs": []
    },
    {
      "cell_type": "code",
      "metadata": {
        "id": "AKkTH6dGLHRt",
        "colab_type": "code",
        "colab": {}
      },
      "source": [
        "!unzip countries.csv.zip\n",
        "!unzip /content/age_gender_bkts.csv.zip\n",
        "!unzip /content/sample_submission_NDF.csv.zip\n",
        "!unzip /content/sessions.csv.zip\n",
        "!unzip /content/test_users.csv.zip\n",
        "!unzip /content/train_users_2.csv.zip"
      ],
      "execution_count": 0,
      "outputs": []
    },
    {
      "cell_type": "code",
      "metadata": {
        "id": "rFUtFbUnLmsz",
        "colab_type": "code",
        "colab": {}
      },
      "source": [
        "import pandas as pd"
      ],
      "execution_count": 0,
      "outputs": []
    },
    {
      "cell_type": "code",
      "metadata": {
        "id": "Y0MMgg1uLmlA",
        "colab_type": "code",
        "colab": {}
      },
      "source": [
        "train_users = pd.read_csv('train_users_2.csv')\n",
        "test_users = pd.read_csv('test_users.csv')\n",
        "sessions = pd.read_csv('sessions.csv')\n",
        "#age_gender_bkts = pd.read_csv('age_gender_bkts.csv')\n"
      ],
      "execution_count": 0,
      "outputs": []
    },
    {
      "cell_type": "markdown",
      "metadata": {
        "id": "PN6zjfA69JHa",
        "colab_type": "text"
      },
      "source": [
        "# helper functions"
      ]
    },
    {
      "cell_type": "code",
      "metadata": {
        "id": "Yz52jOoGV1JX",
        "colab_type": "code",
        "outputId": "4f301be4-3faa-41ce-8be0-8b3af62ba73d",
        "colab": {
          "base_uri": "https://localhost:8080/",
          "height": 74
        }
      },
      "source": [
        "from sklearn_pandas import DataFrameMapper\n",
        "from sklearn.preprocessing import LabelEncoder, StandardScaler\n",
        "from pandas.api.types import is_string_dtype, is_numeric_dtype, is_categorical_dtype\n",
        "from sklearn.ensemble import forest\n",
        "from sklearn.tree import export_graphviz\n",
        "\n",
        "def fix_missing(df, col, name, na_dict):\n",
        "    if is_numeric_dtype(col):\n",
        "        if pd.isnull(col).sum() or (name in na_dict):\n",
        "            df[name+'_na'] = pd.isnull(col)\n",
        "            filler = na_dict[name] if name in na_dict else col.median()\n",
        "            df[name] = col.fillna(filler)\n",
        "            na_dict[name] = filler\n",
        "    return na_dict\n",
        "def numericalize(df, col, name, max_n_cat):\n",
        "\n",
        "    if not is_numeric_dtype(col) and ( max_n_cat is None or len(col.cat.categories)>max_n_cat):\n",
        "        df[name] = pd.Categorical(col).codes+1\n",
        "\n",
        "def proc_df(df, y_fld=None, skip_flds=None, ignore_flds=None, do_scale=False, na_dict=None,\n",
        "            preproc_fn=None, max_n_cat=None, subset=None, mapper=None):\n",
        "\n",
        "    if not ignore_flds: ignore_flds=[]\n",
        "    if not skip_flds: skip_flds=[]\n",
        "    if subset: df = get_sample(df,subset)\n",
        "    else: df = df.copy()\n",
        "    ignored_flds = df.loc[:, ignore_flds]\n",
        "    df.drop(ignore_flds, axis=1, inplace=True)\n",
        "    if preproc_fn: preproc_fn(df)\n",
        "    if y_fld is None: y = None\n",
        "    else:\n",
        "        if not is_numeric_dtype(df[y_fld]): df[y_fld] = pd.Categorical(df[y_fld]).codes\n",
        "        y = df[y_fld].values\n",
        "        skip_flds += [y_fld]\n",
        "    df.drop(skip_flds, axis=1, inplace=True)\n",
        "\n",
        "    if na_dict is None: na_dicaffiliate_providert = {}\n",
        "    else: na_dict = na_dict.copy()\n",
        "    na_dict_initial = na_dict.copy()\n",
        "    for n,c in df.items(): na_dict = fix_missing(df, c, n, na_dict)\n",
        "    if len(na_dict_initial.keys()) > 0:\n",
        "        df.drop([a + '_na' for a in list(set(na_dict.keys()) - set(na_dict_initial.keys()))], axis=1, inplace=True)\n",
        "    if do_scale: mapper = scale_vars(df, mapper)\n",
        "    for n,c in df.items(): numericalize(df, c, n, max_n_cat)\n",
        "    df = pd.get_dummies(df, dummy_na=True)\n",
        "    df = pd.concat([ignored_flds, df], axis=1)\n",
        "    res = [df, y, na_dict]\n",
        "    if do_scale: res = res + [mapper]\n",
        "    return res\n",
        "\n",
        "def split_vals(a,n): return a[:n].copy(), a[n:].copy()"
      ],
      "execution_count": 7,
      "outputs": [
        {
          "output_type": "stream",
          "text": [
            "/usr/local/lib/python3.6/dist-packages/sklearn/utils/deprecation.py:144: FutureWarning: The sklearn.ensemble.forest module is  deprecated in version 0.22 and will be removed in version 0.24. The corresponding classes / functions should instead be imported from sklearn.ensemble. Anything that cannot be imported from sklearn.ensemble is now part of the private API.\n",
            "  warnings.warn(message, FutureWarning)\n"
          ],
          "name": "stderr"
        }
      ]
    },
    {
      "cell_type": "code",
      "metadata": {
        "id": "c62A2a0AZCU8",
        "colab_type": "code",
        "colab": {}
      },
      "source": [
        "def nn_numericalize(df, col, name, max_n_cat, cat_vars=None):\n",
        "    if not is_numeric_dtype(col) and ( max_n_cat is None or len(col.cat.categories)>max_n_cat):\n",
        "        df[name] = pd.Categorical(col).codes\n",
        "    else:\n",
        "      if  name in cat_vars:\n",
        "        df[name] = pd.Categorical(col).codes\n",
        "       \n",
        "def nn_proc_df(df, y_fld=None, skip_flds=None, ignore_flds=None, do_scale=False, na_dict=None,\n",
        "            preproc_fn=None, max_n_cat=None, subset=None, mapper=None, cat_vars=None):\n",
        "\n",
        "    if not ignore_flds: ignore_flds=[]\n",
        "    if not skip_flds: skip_flds=[]\n",
        "    if subset: df = get_sample(df,subset)\n",
        "    else: df = df.copy()\n",
        "    ignored_flds = df.loc[:, ignore_flds]\n",
        "    df.drop(ignore_flds, axis=1, inplace=True)\n",
        "    if preproc_fn: preproc_fn(df)\n",
        "    if y_fld is None: y = None\n",
        "    else:\n",
        "        if not is_numeric_dtype(df[y_fld]): df[y_fld] = pd.Categorical(df[y_fld]).codes\n",
        "        y = df[y_fld].values\n",
        "        skip_flds += [y_fld]\n",
        "    df.drop(skip_flds, axis=1, inplace=True)\n",
        "\n",
        "    if na_dict is None: na_dict = {}\n",
        "    else: na_dict = na_dict.copy()\n",
        "    na_dict_initial = na_dict.copy()\n",
        "    for n,c in df.items(): na_dict = fix_missing(df, c, n, na_dict)\n",
        "    if len(na_dict_initial.keys()) > 0:\n",
        "        df.drop([a + '_na' for a in list(set(na_dict.keys()) - set(na_dict_initial.keys()))], axis=1, inplace=True)\n",
        "    if do_scale: mapper = scale_vars(df, mapper)\n",
        "    for n,c in df.items(): nn_numericalize(df, c, n, max_n_cat, cat_vars=cat_vars)\n",
        "    df = pd.get_dummies(df, dummy_na=True)\n",
        "    df = pd.concat([ignored_flds, df], axis=1)\n",
        "    res = [df, y, na_dict]\n",
        "    if do_scale: res = res + [mapper]\n",
        "    return res\n"
      ],
      "execution_count": 0,
      "outputs": []
    },
    {
      "cell_type": "markdown",
      "metadata": {
        "id": "RRAcC-l_9Uam",
        "colab_type": "text"
      },
      "source": [
        "# Preprocessing"
      ]
    },
    {
      "cell_type": "code",
      "metadata": {
        "id": "quVA30HBi9uz",
        "colab_type": "code",
        "colab": {}
      },
      "source": [
        "train_users = pd.read_csv('train_users_2.csv')\n",
        "test_users = pd.read_csv('test_users.csv')"
      ],
      "execution_count": 0,
      "outputs": []
    },
    {
      "cell_type": "code",
      "metadata": {
        "id": "T0Jjqd8wl3yZ",
        "colab_type": "code",
        "colab": {}
      },
      "source": [
        "train_users.drop(['id', 'date_first_booking'], axis=1, inplace=True)\n",
        "test_users.drop(['id', 'date_first_booking'], axis=1, inplace=True)\n",
        "\n",
        "df = pd.concat((train_users, test_users), axis=0, ignore_index=True, sort=True)"
      ],
      "execution_count": 0,
      "outputs": []
    },
    {
      "cell_type": "code",
      "metadata": {
        "id": "3AKnpoJE7G9A",
        "colab_type": "code",
        "colab": {}
      },
      "source": [
        "import numpy as np\n",
        "df.gender.replace('-unknown-', np.nan, inplace=True)\n",
        "df.language.replace('-unknown-', np.nan, inplace=True)"
      ],
      "execution_count": 0,
      "outputs": []
    },
    {
      "cell_type": "code",
      "metadata": {
        "id": "GnNOuQTR5v-e",
        "colab_type": "code",
        "outputId": "c6ef0db4-5970-47b7-adc5-77a4144d87c9",
        "colab": {
          "base_uri": "https://localhost:8080/",
          "height": 36
        }
      },
      "source": [
        "'-unknown-' in df.gender.unique()"
      ],
      "execution_count": 12,
      "outputs": [
        {
          "output_type": "execute_result",
          "data": {
            "text/plain": [
              "False"
            ]
          },
          "metadata": {
            "tags": []
          },
          "execution_count": 12
        }
      ]
    },
    {
      "cell_type": "code",
      "metadata": {
        "id": "j772aMiK9Upd",
        "colab_type": "code",
        "outputId": "21829ea9-220d-4099-e94e-e3dbcc4f4dc5",
        "colab": {
          "base_uri": "https://localhost:8080/",
          "height": 297
        }
      },
      "source": [
        "users_nan = (df.isnull().sum() / df.shape[0]) * 100\n",
        "users_nan"
      ],
      "execution_count": 13,
      "outputs": [
        {
          "output_type": "execute_result",
          "data": {
            "text/plain": [
              "affiliate_channel           0.000000\n",
              "affiliate_provider          0.000000\n",
              "age                        42.412365\n",
              "country_destination        22.535538\n",
              "date_account_created        0.000000\n",
              "first_affiliate_tracked     2.208335\n",
              "first_browser               0.000000\n",
              "first_device_type           0.000000\n",
              "gender                     46.990169\n",
              "language                    0.000363\n",
              "signup_app                  0.000000\n",
              "signup_flow                 0.000000\n",
              "signup_method               0.000000\n",
              "timestamp_first_active      0.000000\n",
              "dtype: float64"
            ]
          },
          "metadata": {
            "tags": []
          },
          "execution_count": 13
        }
      ]
    },
    {
      "cell_type": "code",
      "metadata": {
        "id": "FNhf67Rn-yF5",
        "colab_type": "code",
        "colab": {}
      },
      "source": [
        "df['date_account_created'] = pd.to_datetime(df['date_account_created'])\n",
        "df['date_first_active'] = pd.to_datetime((df.timestamp_first_active // 1000000), format='%Y%m%d')\n",
        "df.drop('timestamp_first_active', axis=1, inplace=True)"
      ],
      "execution_count": 0,
      "outputs": []
    },
    {
      "cell_type": "code",
      "metadata": {
        "id": "jKEJiCgp84nb",
        "colab_type": "code",
        "colab": {}
      },
      "source": [
        ""
      ],
      "execution_count": 0,
      "outputs": []
    },
    {
      "cell_type": "markdown",
      "metadata": {
        "id": "xg87geQY852a",
        "colab_type": "text"
      },
      "source": [
        "# Handling outliers"
      ]
    },
    {
      "cell_type": "code",
      "metadata": {
        "id": "qbdEhRrnGP7r",
        "colab_type": "code",
        "outputId": "6b1befb4-9094-4b27-e2d4-5964704f07e9",
        "colab": {
          "base_uri": "https://localhost:8080/",
          "height": 186
        }
      },
      "source": [
        "df.age.describe()"
      ],
      "execution_count": 0,
      "outputs": [
        {
          "output_type": "execute_result",
          "data": {
            "text/plain": [
              "count    158681.000000\n",
              "mean         47.145310\n",
              "std         142.629468\n",
              "min           1.000000\n",
              "25%          28.000000\n",
              "50%          33.000000\n",
              "75%          42.000000\n",
              "max        2014.000000\n",
              "Name: age, dtype: float64"
            ]
          },
          "metadata": {
            "tags": []
          },
          "execution_count": 14
        }
      ]
    },
    {
      "cell_type": "code",
      "metadata": {
        "id": "_f_K1E5lLE1H",
        "colab_type": "code",
        "colab": {}
      },
      "source": [
        "import numpy as np\n",
        "data = np.array(df.age)\n",
        "data = data[~np.isnan(data)]"
      ],
      "execution_count": 0,
      "outputs": []
    },
    {
      "cell_type": "code",
      "metadata": {
        "id": "KDMECYqpJk8x",
        "colab_type": "code",
        "outputId": "a7d7ac9d-4099-48eb-fbc7-5859ebb02f45",
        "colab": {
          "base_uri": "https://localhost:8080/",
          "height": 547
        }
      },
      "source": [
        "# Create a figure instance\n",
        "fig = plt.figure(1, figsize=(9, 6))\n",
        "\n",
        "# Create an axes instance\n",
        "ax = fig.add_subplot(111)\n",
        "\n",
        "# Create the boxplot\n",
        "ax.boxplot(data)"
      ],
      "execution_count": 0,
      "outputs": [
        {
          "output_type": "execute_result",
          "data": {
            "text/plain": [
              "{'boxes': [<matplotlib.lines.Line2D at 0x7f316fa3bbe0>],\n",
              " 'caps': [<matplotlib.lines.Line2D at 0x7f3175ac2748>,\n",
              "  <matplotlib.lines.Line2D at 0x7f3175ac2ac8>],\n",
              " 'fliers': [<matplotlib.lines.Line2D at 0x7f3175acf208>],\n",
              " 'means': [],\n",
              " 'medians': [<matplotlib.lines.Line2D at 0x7f3175ac2e48>],\n",
              " 'whiskers': [<matplotlib.lines.Line2D at 0x7f3175ac2048>,\n",
              "  <matplotlib.lines.Line2D at 0x7f3175ac23c8>]}"
            ]
          },
          "metadata": {
            "tags": []
          },
          "execution_count": 16
        },
        {
          "output_type": "display_data",
          "data": {
            "image/png": "[encoded data removed]",
            "text/plain": [
              "<Figure size 648x432 with 1 Axes>"
            ]
          },
          "metadata": {
            "tags": []
          }
        }
      ]
    },
    {
      "cell_type": "code",
      "metadata": {
        "id": "_pYiM4B7AY4g",
        "colab_type": "code",
        "outputId": "61dcf9b2-3f3d-42fc-9e1a-9a2bf78919e5",
        "colab": {
          "base_uri": "https://localhost:8080/",
          "height": 186
        }
      },
      "source": [
        "df[df.age > 100]['age'].describe()"
      ],
      "execution_count": 0,
      "outputs": [
        {
          "output_type": "execute_result",
          "data": {
            "text/plain": [
              "count    2690.000000\n",
              "mean      690.957249\n",
              "std       877.927570\n",
              "min       101.000000\n",
              "25%       105.000000\n",
              "50%       105.000000\n",
              "75%      2014.000000\n",
              "max      2014.000000\n",
              "Name: age, dtype: float64"
            ]
          },
          "metadata": {
            "tags": []
          },
          "execution_count": 17
        }
      ]
    },
    {
      "cell_type": "code",
      "metadata": {
        "id": "qfYkeW6fAY1o",
        "colab_type": "code",
        "outputId": "deab8195-4e08-46d8-bb96-08adc7de8f2e",
        "colab": {
          "base_uri": "https://localhost:8080/",
          "height": 186
        }
      },
      "source": [
        "df[df.age < 18]['age'].describe()"
      ],
      "execution_count": 0,
      "outputs": [
        {
          "output_type": "execute_result",
          "data": {
            "text/plain": [
              "count    188.000000\n",
              "mean      12.718085\n",
              "std        5.764569\n",
              "min        1.000000\n",
              "25%        5.000000\n",
              "50%       16.000000\n",
              "75%       17.000000\n",
              "max       17.000000\n",
              "Name: age, dtype: float64"
            ]
          },
          "metadata": {
            "tags": []
          },
          "execution_count": 18
        }
      ]
    },
    {
      "cell_type": "code",
      "metadata": {
        "id": "8lFLVS-pGH1-",
        "colab_type": "code",
        "colab": {}
      },
      "source": [
        "df.loc[df.age > 100, 'age'] = np.nan\n",
        "df.loc[df.age < 16, 'age'] = np.nan"
      ],
      "execution_count": 0,
      "outputs": []
    },
    {
      "cell_type": "code",
      "metadata": {
        "id": "6JQ0q2FWLyV2",
        "colab_type": "code",
        "outputId": "eda8569c-b339-45fc-cb97-5de67339f422",
        "colab": {
          "base_uri": "https://localhost:8080/",
          "height": 547
        }
      },
      "source": [
        "data = np.array(df.age)\n",
        "data = data[~np.isnan(data)]\n",
        "fig = plt.figure(1, figsize=(9, 6))\n",
        "ax = fig.add_subplot(111)\n",
        "ax.boxplot(data)"
      ],
      "execution_count": 0,
      "outputs": [
        {
          "output_type": "execute_result",
          "data": {
            "text/plain": [
              "{'boxes': [<matplotlib.lines.Line2D at 0x7f316f411128>],\n",
              " 'caps': [<matplotlib.lines.Line2D at 0x7f316f411a20>,\n",
              "  <matplotlib.lines.Line2D at 0x7f316f411da0>],\n",
              " 'fliers': [<matplotlib.lines.Line2D at 0x7f316f4074e0>],\n",
              " 'means': [],\n",
              " 'medians': [<matplotlib.lines.Line2D at 0x7f316f407160>],\n",
              " 'whiskers': [<matplotlib.lines.Line2D at 0x7f316f4112b0>,\n",
              "  <matplotlib.lines.Line2D at 0x7f316f4116a0>]}"
            ]
          },
          "metadata": {
            "tags": []
          },
          "execution_count": 20
        },
        {
          "output_type": "display_data",
          "data": {
            "image/png": "[encoded data removed]",
            "text/plain": [
              "<Figure size 648x432 with 1 Axes>"
            ]
          },
          "metadata": {
            "tags": []
          }
        }
      ]
    },
    {
      "cell_type": "markdown",
      "metadata": {
        "id": "7wXSNZ30Hd4S",
        "colab_type": "text"
      },
      "source": [
        "# Extracting day, week day, month from dates"
      ]
    },
    {
      "cell_type": "code",
      "metadata": {
        "id": "bQHc0dKV2B8e",
        "colab_type": "code",
        "colab": {}
      },
      "source": [
        "df['weekday_account_created'] = df.date_account_created.dt.weekday_name\n",
        "df['day_account_created'] = df.date_account_created.dt.day\n",
        "df['month_account_created'] = df.date_account_created.dt.month\n",
        "\n",
        "df['weekday_first_active'] = df.date_first_active.dt.weekday_name\n",
        "df['day_first_active'] = df.date_first_active.dt.day\n",
        "df['month_first_active'] = df.date_first_active.dt.month\n",
        "\n",
        "df.drop( ['date_account_created', 'date_first_active'], axis=1, inplace=True)"
      ],
      "execution_count": 0,
      "outputs": []
    },
    {
      "cell_type": "markdown",
      "metadata": {
        "id": "A4TFJoEiNG4O",
        "colab_type": "text"
      },
      "source": [
        "# predect age, gender missing values"
      ]
    },
    {
      "cell_type": "code",
      "metadata": {
        "id": "cVRPzclB2DAp",
        "colab_type": "code",
        "outputId": "327cce41-7e71-4179-f311-b34565fbd22b",
        "colab": {
          "base_uri": "https://localhost:8080/",
          "height": 920
        }
      },
      "source": [
        "import seaborn as sns\n",
        "\n",
        "colormap = plt.cm.RdBu\n",
        "plt.figure(figsize=(16,10))\n",
        "plt.title('Pearson Correlation of Features', y=1.0, size=15)\n",
        "sns.heatmap(df.corr(),linewidths=0.1,vmax=1.0, \n",
        "            square=True, cmap=colormap, linecolor='white', annot=True,)\n",
        "# Note that the categorical features have been neglected in the\n",
        "# correlation matrix."
      ],
      "execution_count": 0,
      "outputs": [
        {
          "output_type": "execute_result",
          "data": {
            "text/plain": [
              "<matplotlib.axes._subplots.AxesSubplot at 0x7fc24dbdf320>"
            ]
          },
          "metadata": {
            "tags": []
          },
          "execution_count": 33
        },
        {
          "output_type": "display_data",
          "data": {
            "image/png": "[encoded data removed]",
            "text/plain": [
              "<Figure size 1152x720 with 2 Axes>"
            ]
          },
          "metadata": {
            "tags": []
          }
        }
      ]
    },
    {
      "cell_type": "code",
      "metadata": {
        "id": "g7bnc95hNQJf",
        "colab_type": "code",
        "outputId": "d0b18817-3ab1-4a6a-f60c-aeebfa0e3c84",
        "colab": {
          "base_uri": "https://localhost:8080/",
          "height": 516
        }
      },
      "source": [
        "sns.set(rc={'figure.figsize':(15.7,8.27)})\n",
        "ax = sns.lineplot(x=\"signup_flow\", y=\"age\", data=df)"
      ],
      "execution_count": 0,
      "outputs": [
        {
          "output_type": "display_data",
          "data": {
            "image/png": "[encoded data removed]",
            "text/plain": [
              "<Figure size 1130.4x595.44 with 1 Axes>"
            ]
          },
          "metadata": {
            "tags": []
          }
        }
      ]
    },
    {
      "cell_type": "code",
      "metadata": {
        "id": "lSAXMSQANQHf",
        "colab_type": "code",
        "colab": {}
      },
      "source": [
        "from sklearn.linear_model import LinearRegression\n",
        "linreg = LinearRegression()\n",
        "\n",
        "ind_train = df[df['age'].notnull()]['signup_flow']\n",
        "ind_test = df[df['age'].isnull()]['signup_flow']\n",
        "\n",
        "dep_train = df[df['age'].notnull()]['age']\n",
        "dep_test = df[df['age'].isnull()]['age']\n"
      ],
      "execution_count": 0,
      "outputs": []
    },
    {
      "cell_type": "code",
      "metadata": {
        "id": "EoM_JxHMcJb1",
        "colab_type": "code",
        "colab": {}
      },
      "source": [
        "xxx = np.array([ind_train]).reshape(-1, 1)\n",
        "yyy = np.array([dep_train]).reshape(-1, 1)\n",
        "zzz = np.array([ind_test]).reshape(-1, 1)"
      ],
      "execution_count": 0,
      "outputs": []
    },
    {
      "cell_type": "code",
      "metadata": {
        "id": "jFLBxOPcYAYh",
        "colab_type": "code",
        "outputId": "b330e5c2-4a2c-401b-ed08-4c4c6e48d778",
        "colab": {
          "base_uri": "https://localhost:8080/",
          "height": 206
        }
      },
      "source": [
        "from sklearn.ensemble import RandomForestRegressor, RandomForestClassifier\n",
        "\n",
        "age_predector = RandomForestRegressor(n_estimators=10, n_jobs=-1, oob_score=False)\n",
        "\n",
        "age_predector.fit(xxx,yyy)"
      ],
      "execution_count": 0,
      "outputs": [
        {
          "output_type": "stream",
          "text": [
            "/usr/local/lib/python3.6/dist-packages/ipykernel_launcher.py:5: DataConversionWarning: A column-vector y was passed when a 1d array was expected. Please change the shape of y to (n_samples,), for example using ravel().\n",
            "  \"\"\"\n"
          ],
          "name": "stderr"
        },
        {
          "output_type": "execute_result",
          "data": {
            "text/plain": [
              "RandomForestRegressor(bootstrap=True, ccp_alpha=0.0, criterion='mse',\n",
              "                      max_depth=None, max_features='auto', max_leaf_nodes=None,\n",
              "                      max_samples=None, min_impurity_decrease=0.0,\n",
              "                      min_impurity_split=None, min_samples_leaf=1,\n",
              "                      min_samples_split=2, min_weight_fraction_leaf=0.0,\n",
              "                      n_estimators=10, n_jobs=-1, oob_score=False,\n",
              "                      random_state=None, verbose=0, warm_start=False)"
            ]
          },
          "metadata": {
            "tags": []
          },
          "execution_count": 145
        }
      ]
    },
    {
      "cell_type": "code",
      "metadata": {
        "id": "9IB0NOGfYAXA",
        "colab_type": "code",
        "colab": {}
      },
      "source": [
        "predicted = age_predector.predict(zzz).astype(int)\n"
      ],
      "execution_count": 0,
      "outputs": []
    },
    {
      "cell_type": "code",
      "metadata": {
        "id": "gLoy-lryVCBj",
        "colab_type": "code",
        "colab": {}
      },
      "source": [
        "age_null_indxs = df.age.isnull()"
      ],
      "execution_count": 0,
      "outputs": []
    },
    {
      "cell_type": "code",
      "metadata": {
        "id": "Ysjq9vnYYASm",
        "colab_type": "code",
        "outputId": "073b02af-2c13-4a23-9703-8e2ed34c065c",
        "colab": {
          "base_uri": "https://localhost:8080/",
          "height": 131
        }
      },
      "source": [
        "df.age[age_null_indxs] = predicted"
      ],
      "execution_count": 0,
      "outputs": [
        {
          "output_type": "stream",
          "text": [
            "/usr/local/lib/python3.6/dist-packages/ipykernel_launcher.py:1: SettingWithCopyWarning: \n",
            "A value is trying to be set on a copy of a slice from a DataFrame\n",
            "\n",
            "See the caveats in the documentation: http://pandas.pydata.org/pandas-docs/stable/user_guide/indexing.html#returning-a-view-versus-a-copy\n",
            "  \"\"\"Entry point for launching an IPython kernel.\n"
          ],
          "name": "stderr"
        }
      ]
    },
    {
      "cell_type": "code",
      "metadata": {
        "id": "m9y1N9uPrvgf",
        "colab_type": "code",
        "colab": {}
      },
      "source": [
        ""
      ],
      "execution_count": 0,
      "outputs": []
    },
    {
      "cell_type": "code",
      "metadata": {
        "id": "y7X7U67Yvn1C",
        "colab_type": "code",
        "colab": {}
      },
      "source": [
        ""
      ],
      "execution_count": 0,
      "outputs": []
    },
    {
      "cell_type": "code",
      "metadata": {
        "id": "9u5p20i_vnyk",
        "colab_type": "code",
        "colab": {}
      },
      "source": [
        ""
      ],
      "execution_count": 0,
      "outputs": []
    },
    {
      "cell_type": "markdown",
      "metadata": {
        "id": "L-Lzr2fZ2p2I",
        "colab_type": "text"
      },
      "source": [
        ""
      ]
    },
    {
      "cell_type": "code",
      "metadata": {
        "id": "ewFd6QXArvcl",
        "colab_type": "code",
        "colab": {}
      },
      "source": [
        "###############        assigning mean or mode to nulls(instead of predecting)  ################"
      ],
      "execution_count": 0,
      "outputs": []
    },
    {
      "cell_type": "code",
      "metadata": {
        "id": "F7XV4dQurvaQ",
        "colab_type": "code",
        "colab": {}
      },
      "source": [
        "age_null_indxs = df.age.isnull()\n",
        "df.age[age_null_indxs] = int(df.age.mean())"
      ],
      "execution_count": 0,
      "outputs": []
    },
    {
      "cell_type": "code",
      "metadata": {
        "id": "IHQuJoEv-syq",
        "colab_type": "code",
        "colab": {}
      },
      "source": [
        ""
      ],
      "execution_count": 0,
      "outputs": []
    },
    {
      "cell_type": "code",
      "metadata": {
        "id": "86F2Krlsq2eJ",
        "colab_type": "code",
        "colab": {}
      },
      "source": [
        "gender_null_idxs = df.gender.isnull()\n",
        "df.gender[gender_null_idxs] = 'FEMALE'"
      ],
      "execution_count": 0,
      "outputs": []
    },
    {
      "cell_type": "code",
      "metadata": {
        "id": "NQG0ExzwrNWY",
        "colab_type": "code",
        "colab": {}
      },
      "source": [
        ""
      ],
      "execution_count": 0,
      "outputs": []
    },
    {
      "cell_type": "code",
      "metadata": {
        "id": "vL7uEolzzUio",
        "colab_type": "code",
        "colab": {}
      },
      "source": [
        "language_null_idxs = df.language.isnull()\n",
        "df.language[language_null_idxs] = 'en'"
      ],
      "execution_count": 0,
      "outputs": []
    },
    {
      "cell_type": "code",
      "metadata": {
        "id": "TndnxlnW26u1",
        "colab_type": "code",
        "colab": {}
      },
      "source": [
        ""
      ],
      "execution_count": 0,
      "outputs": []
    },
    {
      "cell_type": "code",
      "metadata": {
        "id": "kCRD4F111CUg",
        "colab_type": "code",
        "colab": {}
      },
      "source": [
        "fat_null_idxs = df.first_affiliate_tracked.isnull()\n",
        "df.first_affiliate_tracked[fat_null_idxs] = 'untracked'"
      ],
      "execution_count": 0,
      "outputs": []
    },
    {
      "cell_type": "markdown",
      "metadata": {
        "id": "J31f1HKmtE9I",
        "colab_type": "text"
      },
      "source": [
        "# convert entire df to numeric values"
      ]
    },
    {
      "cell_type": "code",
      "metadata": {
        "id": "sZ9qTy0CYAOK",
        "colab_type": "code",
        "colab": {}
      },
      "source": [
        "x, y, nas = proc_df(df,'country_destination')\n",
        "#x.drop('age_na', axis=1, inplace=True)\n",
        "\n",
        "n_test = len(test_users)  # same as Kaggle's test set size\n",
        "n_trn = len(df)-n_test\n",
        "\n",
        "X_train, X_test = split_vals(x, n_trn)\n",
        "y_train, y_test = split_vals(y, n_trn)\n",
        "\n"
      ],
      "execution_count": 0,
      "outputs": []
    },
    {
      "cell_type": "code",
      "metadata": {
        "id": "u5M2nXhQvOI6",
        "colab_type": "code",
        "colab": {}
      },
      "source": [
        ""
      ],
      "execution_count": 0,
      "outputs": []
    },
    {
      "cell_type": "markdown",
      "metadata": {
        "id": "9Yv1JJ_ivTks",
        "colab_type": "text"
      },
      "source": [
        "# build XGBOOST model"
      ]
    },
    {
      "cell_type": "code",
      "metadata": {
        "id": "i2Alz0JdtxQo",
        "colab_type": "code",
        "colab": {}
      },
      "source": [
        "import xgboost as xgb\n",
        "params = {'max_depth': 10,\n",
        "    'learning_rate': 1,\n",
        "    'n_estimators': 5,\n",
        "    'objective': 'multi:softprob',\n",
        "    'num_class': 12,\n",
        "    'gamma': 0,\n",
        "    'min_child_weight': 1,\n",
        "    'max_delta_step': 0,\n",
        "    'subsample': 1,\n",
        "    'colsample_bytree': 1,\n",
        "    'colsample_bylevel': 1,\n",
        "    'reg_alpha': 0,\n",
        "    'reg_lambda': 1,\n",
        "    'scale_pos_weight': 1,\n",
        "    'base_score': 0.5,\n",
        "    'missing': None,\n",
        "    'nthread': 4,\n",
        "    'seed': 42\n",
        "          }\n",
        "num_boost_round = 5\n",
        "\n"
      ],
      "execution_count": 0,
      "outputs": []
    },
    {
      "cell_type": "code",
      "metadata": {
        "id": "MLGKr9WGt8IQ",
        "colab_type": "code",
        "colab": {}
      },
      "source": [
        "print(\"Train a XGBoost model\")\n",
        "xg_train = xgb.DMatrix(X_train, label=y_train)#Specifying the hyperparameters\n",
        "gbm = xgb.train(params, xg_train, num_boost_round)"
      ],
      "execution_count": 0,
      "outputs": []
    },
    {
      "cell_type": "code",
      "metadata": {
        "id": "ty1BoFze5Qm5",
        "colab_type": "code",
        "outputId": "3c1401f5-45ef-410e-9d85-ef66ea008aaa",
        "colab": {
          "base_uri": "https://localhost:8080/",
          "height": 35
        }
      },
      "source": [
        "#############   CALCULATE NDCG ON TRAINING DATA #########################  3\n",
        "y_pred = gbm.predict(xgb.DMatrix(X_train))\n",
        "true_relevance = np.zeros_like(y_pred)\n",
        "for i in range(len(true_relevance)):\n",
        "  indx = y_train[i]\n",
        "  true_relevance[i][indx]=1\n",
        "\n",
        "from sklearn.metrics import ndcg_score\n",
        "ndcg_score(true_relevance, y_pred)"
      ],
      "execution_count": 0,
      "outputs": [
        {
          "output_type": "execute_result",
          "data": {
            "text/plain": [
              "0.8376089698333912"
            ]
          },
          "metadata": {
            "tags": []
          },
          "execution_count": 26
        }
      ]
    },
    {
      "cell_type": "code",
      "metadata": {
        "id": "6Mio2kRSugtT",
        "colab_type": "code",
        "colab": {}
      },
      "source": [
        "test_users = pd.read_csv('test_users.csv')\n",
        "id_test = test_users['id']"
      ],
      "execution_count": 0,
      "outputs": []
    },
    {
      "cell_type": "code",
      "metadata": {
        "id": "1APWlDA5uoJN",
        "colab_type": "code",
        "colab": {}
      },
      "source": [
        "y_pred = gbm.predict(xgb.DMatrix(X_test))\n",
        "ids = []  #list of ids\n",
        "cts = []  #list of countries\n",
        "for i in range(len(id_test)):\n",
        "    idx = id_test[i]\n",
        "    ids += [idx] * 5\n",
        "    cts += label_encoder.inverse_transform(np.argsort(y_pred[i])[::-1])[:5].tolist()"
      ],
      "execution_count": 0,
      "outputs": []
    },
    {
      "cell_type": "code",
      "metadata": {
        "id": "FLG0pN_guw1G",
        "colab_type": "code",
        "colab": {}
      },
      "source": [
        "predict = pd.DataFrame(np.column_stack((ids, cts)), columns=['id', 'country'])"
      ],
      "execution_count": 0,
      "outputs": []
    },
    {
      "cell_type": "code",
      "metadata": {
        "id": "cIXCykEZuym4",
        "colab_type": "code",
        "colab": {}
      },
      "source": [
        "predict.to_csv('prediction.csv',index=False)"
      ],
      "execution_count": 0,
      "outputs": []
    },
    {
      "cell_type": "markdown",
      "metadata": {
        "id": "hckoONZN4jqB",
        "colab_type": "text"
      },
      "source": [
        "# SPLIT DATA TO TRAIN, VALID"
      ]
    },
    {
      "cell_type": "code",
      "metadata": {
        "id": "3TfgacAX4jTi",
        "colab_type": "code",
        "colab": {}
      },
      "source": [
        "n_valid   = int(0.2 * len(X_train))  # same as Kaggle's test set size\n",
        "n_new_trn = len(X_train)-n_valid\n",
        "\n",
        "X_new_train, X_valid = split_vals(X_train, n_new_trn)\n",
        "y_new_train, y_valid = split_vals(y_train, n_new_trn)"
      ],
      "execution_count": 0,
      "outputs": []
    },
    {
      "cell_type": "markdown",
      "metadata": {
        "id": "BMHOZetcvxma",
        "colab_type": "text"
      },
      "source": [
        "# Random forest model "
      ]
    },
    {
      "cell_type": "code",
      "metadata": {
        "id": "i7RXjxa32C62",
        "colab_type": "code",
        "outputId": "2897b3b5-4007-40f0-fe6e-a3310a0bf8de",
        "colab": {
          "base_uri": "https://localhost:8080/",
          "height": 167
        }
      },
      "source": [
        "from sklearn.ensemble import  RandomForestClassifier\n",
        "\n",
        "model = RandomForestClassifier(n_estimators=100, min_samples_leaf=3, n_jobs=-1) \n",
        "\n",
        "model.fit(X_new_train,y_new_train)\n"
      ],
      "execution_count": 0,
      "outputs": [
        {
          "output_type": "execute_result",
          "data": {
            "text/plain": [
              "RandomForestClassifier(bootstrap=True, ccp_alpha=0.0, class_weight=None,\n",
              "                       criterion='gini', max_depth=None, max_features='auto',\n",
              "                       max_leaf_nodes=None, max_samples=None,\n",
              "                       min_impurity_decrease=0.0, min_impurity_split=None,\n",
              "                       min_samples_leaf=3, min_samples_split=2,\n",
              "                       min_weight_fraction_leaf=0.0, n_estimators=100,\n",
              "                       n_jobs=-1, oob_score=False, random_state=None, verbose=0,\n",
              "                       warm_start=False)"
            ]
          },
          "metadata": {
            "tags": []
          },
          "execution_count": 27
        }
      ]
    },
    {
      "cell_type": "code",
      "metadata": {
        "id": "YAff2mvQkQhx",
        "colab_type": "code",
        "colab": {}
      },
      "source": [
        "\n",
        "def scoring_fn(model, data_to_score, labels_to_pred=None, test_for_csv=False ):\n",
        "  tree_predictions = np.array([tree.predict(data_to_score) for tree in model.estimators_])\n",
        "\n",
        "  y_pred_trees=[]\n",
        "  for j in range(tree_predictions.shape[1]):\n",
        "    pred_list = list(tree_predictions[:,j])\n",
        "    top_k=[]\n",
        "    #print('start:',pred_list)\n",
        "    while pred_list:\n",
        "      maximum = max(set(pred_list), key=lambda x: pred_list.count(x))\n",
        "      #print(maximum)\n",
        "      top_k.append(maximum)\n",
        "      while(maximum in pred_list):\n",
        "        pred_list.remove(maximum)\n",
        "      #print(pred_list)\n",
        "      if len(top_k) == 5:\n",
        "        break\n",
        "    y_pred_trees.append(top_k)\n",
        "\n",
        "  y_pred_trees_arr = np.zeros((len(data_to_score),12))\n",
        "  for i in range (len(y_pred_trees_arr)):\n",
        "    relev = 12\n",
        "    for doc in y_pred_trees[i]:\n",
        "      y_pred_trees_arr[i][int(doc)] = relev\n",
        "      relev -=1\n",
        "  if not test_for_csv:\n",
        "    true_relevance = np.zeros_like(y_pred_trees_arr)\n",
        "    for i in range(len(true_relevance)):\n",
        "      indx = labels_to_pred[i]\n",
        "      true_relevance[i][indx]=1\n",
        "  if test_for_csv:\n",
        "    return y_pred_trees_arr\n",
        "  else:\n",
        "    return ndcg_score(true_relevance, y_pred_trees_arr)"
      ],
      "execution_count": 0,
      "outputs": []
    },
    {
      "cell_type": "code",
      "metadata": {
        "id": "7zfNO0-Af_cG",
        "colab_type": "code",
        "outputId": "acda2dfe-a35a-4c1d-c984-ca42610ef9e9",
        "colab": {
          "base_uri": "https://localhost:8080/",
          "height": 54
        }
      },
      "source": [
        "\n",
        "print('training score :'  , scoring_fn(model,X_new_train,y_new_train))\n",
        "print('validation score :', scoring_fn(model,X_valid,y_valid))"
      ],
      "execution_count": 0,
      "outputs": [
        {
          "output_type": "stream",
          "text": [
            "training score : 0.9795342324160299\n",
            "validation score : 0.8253954751378056\n"
          ],
          "name": "stdout"
        }
      ]
    },
    {
      "cell_type": "code",
      "metadata": {
        "id": "KChqdpxuFqPZ",
        "colab_type": "code",
        "outputId": "9500e0e8-ece8-4e1e-9e6a-4414aa23d491",
        "colab": {
          "base_uri": "https://localhost:8080/",
          "height": 54
        }
      },
      "source": [
        "#### after min_sample_leaf = 3\n",
        "print('training score :'  , scoring_fn(model,X_new_train,y_new_train))\n",
        "print('validation score :', scoring_fn(model,X_valid,y_valid))"
      ],
      "execution_count": 0,
      "outputs": [
        {
          "output_type": "stream",
          "text": [
            "training score : 0.8957879921790012\n",
            "validation score : 0.8362531356194036\n"
          ],
          "name": "stdout"
        }
      ]
    },
    {
      "cell_type": "code",
      "metadata": {
        "id": "n6Nhbl3qbFA7",
        "colab_type": "code",
        "colab": {}
      },
      "source": [
        "label_encoder = LabelEncoder()\n",
        "label_encoder.fit(train_users.country_destination)\n",
        "ids = []  #list of ids\n",
        "cts = []  #list of countries\n",
        "for i in range(len(id_test)):\n",
        "    idx = id_test[i]\n",
        "    ids += [idx] * 5\n",
        "    cts += label_encoder.inverse_transform(np.argsort(y_pred_trees_arr[i])[::-1])[:5].tolist()\n",
        "\n",
        "predict3 = pd.DataFrame(np.column_stack((ids, cts)), columns=['id', 'country'])\n",
        "\n",
        "predict3.to_csv('prediction3.csv',index=False)"
      ],
      "execution_count": 0,
      "outputs": []
    },
    {
      "cell_type": "code",
      "metadata": {
        "id": "oA2WVjLYBaUo",
        "colab_type": "code",
        "colab": {}
      },
      "source": [
        ""
      ],
      "execution_count": 0,
      "outputs": []
    },
    {
      "cell_type": "markdown",
      "metadata": {
        "id": "on4kQk2JF2zq",
        "colab_type": "text"
      },
      "source": [
        "# Handling Imbalanced Data\n"
      ]
    },
    {
      "cell_type": "code",
      "metadata": {
        "id": "SGfl2hTndCxo",
        "colab_type": "code",
        "colab": {}
      },
      "source": [
        "def plot_classes(df):\n",
        "  counts = df.country_destination.value_counts() \n",
        "  width = 0.4\n",
        "  sns.set(rc={'figure.figsize':(15.7,8.27)})\n",
        "  counts.plot(kind='bar', width=width, color='#4DD3C9', position=0, label='Male', rot=0)\n",
        "  plt.legend()\n",
        "  plt.xlabel('Destination Country')\n",
        "  plt.ylabel('count')\n",
        "  sns.despine()\n",
        "  plt.show()"
      ],
      "execution_count": 0,
      "outputs": []
    },
    {
      "cell_type": "code",
      "metadata": {
        "id": "97nPfUv4dWKZ",
        "colab_type": "code",
        "outputId": "15749292-5583-4011-b9a3-6b33256361f2",
        "colab": {
          "base_uri": "https://localhost:8080/",
          "height": 516
        }
      },
      "source": [
        "plot_classes(train_users)"
      ],
      "execution_count": 0,
      "outputs": [
        {
          "output_type": "display_data",
          "data": {
            "image/png": "[encoded data removed]",
            "text/plain": [
              "<Figure size 1130.4x595.44 with 1 Axes>"
            ]
          },
          "metadata": {
            "tags": []
          }
        }
      ]
    },
    {
      "cell_type": "code",
      "metadata": {
        "id": "xU5gSDFmedTZ",
        "colab_type": "code",
        "outputId": "00e719bc-e631-4b0b-d5b8-f9c6b5d2701a",
        "colab": {
          "base_uri": "https://localhost:8080/",
          "height": 516
        }
      },
      "source": [
        "plot_classes(df[:len(X_new_train)])"
      ],
      "execution_count": 0,
      "outputs": [
        {
          "output_type": "display_data",
          "data": {
            "image/png": "[encoded data removed]",
            "text/plain": [
              "<Figure size 1130.4x595.44 with 1 Axes>"
            ]
          },
          "metadata": {
            "tags": []
          }
        }
      ]
    },
    {
      "cell_type": "code",
      "metadata": {
        "id": "zGfsRi4fHOOE",
        "colab_type": "code",
        "outputId": "f3f58dbf-3375-4a75-8a8f-c9a34110b844",
        "colab": {
          "base_uri": "https://localhost:8080/",
          "height": 54
        }
      },
      "source": [
        "label_encoder.classes_"
      ],
      "execution_count": 0,
      "outputs": [
        {
          "output_type": "execute_result",
          "data": {
            "text/plain": [
              "array(['AU', 'CA', 'DE', 'ES', 'FR', 'GB', 'IT', 'NDF', 'NL', 'PT', 'US',\n",
              "       'other'], dtype=object)"
            ]
          },
          "metadata": {
            "tags": []
          },
          "execution_count": 196
        }
      ]
    },
    {
      "cell_type": "code",
      "metadata": {
        "id": "1554A2jRetGL",
        "colab_type": "code",
        "outputId": "59c3eabb-3f3c-4126-c57f-5cf08d4c05c9",
        "colab": {
          "base_uri": "https://localhost:8080/",
          "height": 35
        }
      },
      "source": [
        "u, c = np.unique(y_new_train, return_counts=True)\n",
        "sorted(c)"
      ],
      "execution_count": 0,
      "outputs": [
        {
          "output_type": "execute_result",
          "data": {
            "text/plain": [
              "[163, 462, 602, 911, 1128, 1831, 1889, 2272, 4175, 8103, 51033, 98192]"
            ]
          },
          "metadata": {
            "tags": []
          },
          "execution_count": 130
        }
      ]
    },
    {
      "cell_type": "code",
      "metadata": {
        "id": "sY7BvxBoBXp1",
        "colab_type": "code",
        "colab": {}
      },
      "source": [
        "'''\n",
        "n=15000\n",
        "d = {0:n,\n",
        "     1:n,\n",
        "     2:n,\n",
        "     3:n,\n",
        "     4:n,\n",
        "     5:n,\n",
        "     6:n,\n",
        "     8:n,\n",
        "     9:n,\n",
        "     11:n }\n",
        "\n",
        "dd = {7 :40000,\n",
        "      10:40000}\n",
        "\n",
        "smote = SMOTE(sampling_strategy= d)\n",
        "X_sm, y_sm = smote.fit_sample(X_new_train, y_new_train)\n",
        "\n",
        "rus = RandomUnderSampler(sampling_strategy=dd )\n",
        "X_rus, y_rus = rus.fit_sample(X_new_train, y_new_train)\n",
        "\n",
        "u, c = np.unique(y_sm, return_counts=True)\n",
        "sorted(c)\n",
        "'''"
      ],
      "execution_count": 0,
      "outputs": []
    },
    {
      "cell_type": "code",
      "metadata": {
        "id": "kd-cMJpkpahz",
        "colab_type": "code",
        "colab": {}
      },
      "source": [
        "from imblearn.under_sampling import TomekLinks\n",
        "from imblearn.under_sampling import RandomUnderSampler\n",
        "from imblearn.over_sampling import SMOTE\n",
        "from imblearn.combine import SMOTETomek\n",
        "\n",
        "tl = TomekLinks(sampling_strategy='majority' )\n",
        "rus = RandomUnderSampler(sampling_strategy={7:20000,10:20000} )\n",
        "smt = SMOTETomek(ratio='auto')\n",
        "\n",
        "X_tl, y_tl = tl.fit_sample(X_new_train, y_new_train)\n",
        "X_rus, y_rus = rus.fit_sample(X_tl, y_tl)\n",
        "X_smt, y_smt = smt.fit_sample(X_rus, y_rus)"
      ],
      "execution_count": 0,
      "outputs": []
    },
    {
      "cell_type": "code",
      "metadata": {
        "id": "7g6tcuiX8ZJn",
        "colab_type": "code",
        "outputId": "1d0d6e9a-9137-48ff-8c3e-943666d56a70",
        "colab": {
          "base_uri": "https://localhost:8080/",
          "height": 167
        }
      },
      "source": [
        "from sklearn.ensemble import  RandomForestClassifier\n",
        "\n",
        "model = RandomForestClassifier(n_estimators=100,min_samples_leaf=3,  n_jobs=-1) \n",
        "\n",
        "model.fit(X_sm, y_sm)\n"
      ],
      "execution_count": 0,
      "outputs": [
        {
          "output_type": "execute_result",
          "data": {
            "text/plain": [
              "RandomForestClassifier(bootstrap=True, ccp_alpha=0.0, class_weight=None,\n",
              "                       criterion='gini', max_depth=None, max_features='auto',\n",
              "                       max_leaf_nodes=None, max_samples=None,\n",
              "                       min_impurity_decrease=0.0, min_impurity_split=None,\n",
              "                       min_samples_leaf=3, min_samples_split=2,\n",
              "                       min_weight_fraction_leaf=0.0, n_estimators=100,\n",
              "                       n_jobs=-1, oob_score=False, random_state=None, verbose=0,\n",
              "                       warm_start=False)"
            ]
          },
          "metadata": {
            "tags": []
          },
          "execution_count": 251
        }
      ]
    },
    {
      "cell_type": "code",
      "metadata": {
        "id": "FBrG3MHYIrqA",
        "colab_type": "code",
        "outputId": "b88a6f9c-c77f-41ca-9faa-bfe88e3ca81a",
        "colab": {
          "base_uri": "https://localhost:8080/",
          "height": 35
        }
      },
      "source": [
        "y_sm.shape"
      ],
      "execution_count": 0,
      "outputs": [
        {
          "output_type": "execute_result",
          "data": {
            "text/plain": [
              "(299225,)"
            ]
          },
          "metadata": {
            "tags": []
          },
          "execution_count": 234
        }
      ]
    },
    {
      "cell_type": "code",
      "metadata": {
        "id": "9vvQ84sq8ZHH",
        "colab_type": "code",
        "outputId": "4794d299-396f-4ccd-94a8-958116fa8d50",
        "colab": {
          "base_uri": "https://localhost:8080/",
          "height": 54
        }
      },
      "source": [
        "print('training score :'  , scoring_fn(model,X_new_train,y_new_train))\n",
        "print('validation score :', scoring_fn(model,X_valid,y_valid))"
      ],
      "execution_count": 0,
      "outputs": [
        {
          "output_type": "stream",
          "text": [
            "training score : 0.8869236867573137\n",
            "validation score : 0.8315440779324792\n"
          ],
          "name": "stdout"
        }
      ]
    },
    {
      "cell_type": "code",
      "metadata": {
        "id": "qKDmIjAeQDbj",
        "colab_type": "code",
        "outputId": "0c9ba4bf-b8c0-4568-909b-787263949936",
        "colab": {
          "base_uri": "https://localhost:8080/",
          "height": 54
        }
      },
      "source": [
        "print('training score :'  , scoring_fn(model,X_new_train,y_new_train))\n",
        "print('validation score :', scoring_fn(model,X_valid,y_valid))"
      ],
      "execution_count": 0,
      "outputs": [
        {
          "output_type": "stream",
          "text": [
            "training score : 0.9034998505521411\n",
            "validation score : 0.8330558733713016\n"
          ],
          "name": "stdout"
        }
      ]
    },
    {
      "cell_type": "code",
      "metadata": {
        "id": "lCSkpB8J8ZDc",
        "colab_type": "code",
        "colab": {}
      },
      "source": [
        "y_pred_trees_arr = scoring_fn(model, X_test, test_for_csv=True)\n",
        "test_users = pd.read_csv('test_users.csv')\n",
        "id_test = test_users['id']\n",
        "label_encoder = LabelEncoder()\n",
        "label_encoder.fit(train_users.country_destination)\n",
        "ids = []  #list of ids\n",
        "cts = []  #list of countries\n",
        "for i in range(len(id_test)):\n",
        "    idx = id_test[i]\n",
        "    ids += [idx] * 5\n",
        "    cts += label_encoder.inverse_transform(np.argsort(y_pred_trees_arr[i])[::-1])[:5].tolist()\n",
        "\n",
        "predict4 = pd.DataFrame(np.column_stack((ids, cts)), columns=['id', 'country'])\n",
        "\n",
        "predict4.to_csv('prediction4.csv',index=False)"
      ],
      "execution_count": 0,
      "outputs": []
    },
    {
      "cell_type": "code",
      "metadata": {
        "id": "pCO0zDKd8ZBN",
        "colab_type": "code",
        "colab": {}
      },
      "source": [
        ""
      ],
      "execution_count": 0,
      "outputs": []
    },
    {
      "cell_type": "markdown",
      "metadata": {
        "id": "OD8VStrWYS0T",
        "colab_type": "text"
      },
      "source": [
        "# feature importance"
      ]
    },
    {
      "cell_type": "code",
      "metadata": {
        "id": "FYJb9PDBd-h7",
        "colab_type": "code",
        "colab": {}
      },
      "source": [
        "dictt = {k:v for k,v in zip(X_new_train.columns, model.feature_importances_)}\n",
        "ser = pd.Series(dictt) \n"
      ],
      "execution_count": 0,
      "outputs": []
    },
    {
      "cell_type": "code",
      "metadata": {
        "id": "M_83XCZRzXe5",
        "colab_type": "code",
        "outputId": "8e0caf85-6bd0-49d0-d9a8-c98d308842c2",
        "colab": {
          "base_uri": "https://localhost:8080/",
          "height": 356
        }
      },
      "source": [
        "ser"
      ],
      "execution_count": 0,
      "outputs": [
        {
          "output_type": "execute_result",
          "data": {
            "text/plain": [
              "affiliate_channel          0.032085\n",
              "affiliate_provider         0.019888\n",
              "age                        0.212811\n",
              "first_affiliate_tracked    0.036226\n",
              "first_browser              0.053643\n",
              "first_device_type          0.030689\n",
              "gender                     0.022482\n",
              "language                   0.006547\n",
              "signup_app                 0.007542\n",
              "signup_flow                0.033356\n",
              "signup_method              0.054963\n",
              "weekday_account_created    0.061353\n",
              "day_account_created        0.113693\n",
              "month_account_created      0.069877\n",
              "weekday_first_active       0.061168\n",
              "day_first_active           0.113942\n",
              "month_first_active         0.069735\n",
              "dtype: float64"
            ]
          },
          "metadata": {
            "tags": []
          },
          "execution_count": 33
        }
      ]
    },
    {
      "cell_type": "code",
      "metadata": {
        "id": "QkyH3WEobPNA",
        "colab_type": "code",
        "outputId": "699e61b3-a935-41af-b18b-24fc08aec60d",
        "colab": {
          "base_uri": "https://localhost:8080/",
          "height": 640
        }
      },
      "source": [
        " \n",
        "width = 0.4\n",
        "sns.set(rc={'figure.figsize':(15.7,8.27)})\n",
        "ser.plot(kind='bar', width=width, color='#4DD3C9', position=0, rot=60)\n",
        "plt.legend()\n",
        "plt.xlabel('feature')\n",
        "plt.ylabel('feature importance')\n",
        "sns.despine()\n",
        "plt.show()"
      ],
      "execution_count": 0,
      "outputs": [
        {
          "output_type": "display_data",
          "data": {
            "image/png": "[encoded data removed]",
            "text/plain": [
              "<Figure size 1130.4x595.44 with 1 Axes>"
            ]
          },
          "metadata": {
            "tags": []
          }
        }
      ]
    },
    {
      "cell_type": "code",
      "metadata": {
        "id": "3LeDMMsMjcOq",
        "colab_type": "code",
        "colab": {}
      },
      "source": [
        "to_keep = []\n",
        "for k,v in dictt.items():\n",
        "  if v>0.04:\n",
        "    to_keep.append(k)\n",
        "to_keep.append('country_destination')\n",
        "df_keep = df[to_keep].copy()"
      ],
      "execution_count": 0,
      "outputs": []
    },
    {
      "cell_type": "code",
      "metadata": {
        "id": "cPH22SCpzaj1",
        "colab_type": "code",
        "outputId": "b346c68e-20bc-48fe-ac53-e296ce6dcc34",
        "colab": {
          "base_uri": "https://localhost:8080/",
          "height": 205
        }
      },
      "source": [
        "to_keep"
      ],
      "execution_count": 0,
      "outputs": [
        {
          "output_type": "execute_result",
          "data": {
            "text/plain": [
              "['age',\n",
              " 'first_browser',\n",
              " 'signup_method',\n",
              " 'weekday_account_created',\n",
              " 'day_account_created',\n",
              " 'month_account_created',\n",
              " 'weekday_first_active',\n",
              " 'day_first_active',\n",
              " 'month_first_active',\n",
              " 'country_destination']"
            ]
          },
          "metadata": {
            "tags": []
          },
          "execution_count": 34
        }
      ]
    },
    {
      "cell_type": "code",
      "metadata": {
        "id": "FVeF9vzxxLI2",
        "colab_type": "code",
        "colab": {}
      },
      "source": [
        "x, y, nas = proc_df(df_keep,'country_destination')\n",
        "\n",
        "n_test = len(test_users)  # same as Kaggle's test set size\n",
        "n_trn = len(df)-n_test\n",
        "\n",
        "X_train, X_test = split_vals(x, n_trn)\n",
        "y_train, y_test = split_vals(y, n_trn)\n",
        "\n",
        "n_valid   = int(0.2 * len(X_train))  # same as Kaggle's test set size\n",
        "n_new_trn = len(X_train)-n_valid\n",
        "\n",
        "X_new_train, X_valid = split_vals(X_train, n_new_trn)\n",
        "y_new_train, y_valid = split_vals(y_train, n_new_trn)"
      ],
      "execution_count": 0,
      "outputs": []
    },
    {
      "cell_type": "code",
      "metadata": {
        "id": "fhFpNM_AxRpG",
        "colab_type": "code",
        "outputId": "dc81852e-9e7b-4244-c847-3c8d38ba1292",
        "colab": {
          "base_uri": "https://localhost:8080/",
          "height": 167
        }
      },
      "source": [
        "model = RandomForestClassifier(n_estimators=100, min_samples_leaf=3, n_jobs=-1,) \n",
        "\n",
        "model.fit(X_new_train,y_new_train)"
      ],
      "execution_count": 0,
      "outputs": [
        {
          "output_type": "execute_result",
          "data": {
            "text/plain": [
              "RandomForestClassifier(bootstrap=True, ccp_alpha=0.0, class_weight=None,\n",
              "                       criterion='gini', max_depth=None, max_features='auto',\n",
              "                       max_leaf_nodes=None, max_samples=None,\n",
              "                       min_impurity_decrease=0.0, min_impurity_split=None,\n",
              "                       min_samples_leaf=3, min_samples_split=2,\n",
              "                       min_weight_fraction_leaf=0.0, n_estimators=100,\n",
              "                       n_jobs=-1, oob_score=False, random_state=None, verbose=0,\n",
              "                       warm_start=False)"
            ]
          },
          "metadata": {
            "tags": []
          },
          "execution_count": 368
        }
      ]
    },
    {
      "cell_type": "code",
      "metadata": {
        "id": "MxWgWe7ezA91",
        "colab_type": "code",
        "outputId": "c563ea73-424b-4b2b-a804-4ff6ee6c5790",
        "colab": {
          "base_uri": "https://localhost:8080/",
          "height": 54
        }
      },
      "source": [
        "print('training score :'  , scoring_fn(model,X_new_train,y_new_train))\n",
        "print('validation score :', scoring_fn(model,X_valid,y_valid))"
      ],
      "execution_count": 0,
      "outputs": [
        {
          "output_type": "stream",
          "text": [
            "training score : 0.8895158709432415\n",
            "validation score : 0.8366818425104855\n"
          ],
          "name": "stdout"
        }
      ]
    },
    {
      "cell_type": "code",
      "metadata": {
        "id": "BRuSj6850CXM",
        "colab_type": "code",
        "colab": {}
      },
      "source": [
        ""
      ],
      "execution_count": 0,
      "outputs": []
    },
    {
      "cell_type": "markdown",
      "metadata": {
        "id": "kFL7MbdHwmls",
        "colab_type": "text"
      },
      "source": [
        "# Neural Network"
      ]
    },
    {
      "cell_type": "code",
      "metadata": {
        "id": "y2XCqcFWvc8o",
        "colab_type": "code",
        "colab": {}
      },
      "source": [
        "cat_vars = ['affiliate_channel','affiliate_provider','first_affiliate_tracked',\n",
        "            'first_browser','first_device_type','gender', 'language', 'signup_app', \n",
        "            'signup_flow', 'signup_method','weekday_account_created', 'day_account_created',\n",
        "            'month_account_created', 'weekday_first_active', 'day_first_active',\n",
        "            'month_first_active']"
      ],
      "execution_count": 0,
      "outputs": []
    },
    {
      "cell_type": "code",
      "metadata": {
        "id": "9h-yVl7X8cmo",
        "colab_type": "code",
        "colab": {}
      },
      "source": [
        "df_test = df.copy()"
      ],
      "execution_count": 0,
      "outputs": []
    },
    {
      "cell_type": "code",
      "metadata": {
        "id": "5KI9o-Wtdxda",
        "colab_type": "code",
        "colab": {}
      },
      "source": [
        "x, y, nas = nn_proc_df(df_test,'country_destination',cat_vars=cat_vars)\n",
        "\n",
        "n_test = len(test_users)  \n",
        "n_trn = len(df)-n_test\n",
        "\n",
        "nX_train, nX_test = split_vals(x, n_trn)\n",
        "ny_train,   _     = split_vals(y, n_trn)\n",
        "\n",
        "n_valid   = int(0.2 * len(nX_train))  \n",
        "n_new_trn = len(nX_train)-n_valid\n",
        "\n",
        "nX_new_train, nX_valid = split_vals(nX_train, n_new_trn)\n",
        "ny_new_train, ny_valid = split_vals(ny_train, n_new_trn)"
      ],
      "execution_count": 0,
      "outputs": []
    },
    {
      "cell_type": "code",
      "metadata": {
        "id": "UJ3rY2tbfOWB",
        "colab_type": "code",
        "colab": {}
      },
      "source": [
        ""
      ],
      "execution_count": 0,
      "outputs": []
    },
    {
      "cell_type": "code",
      "metadata": {
        "id": "O6KPp6d6hwSI",
        "colab_type": "code",
        "colab": {}
      },
      "source": [
        "import torch\n",
        "\n",
        "train_tensor = torch.from_numpy(nX_new_train.values).cuda()\n",
        "train_labels = torch.from_numpy(ny_new_train).long().cuda()\n",
        "\n",
        "valid_tensor = torch.from_numpy(nX_valid.values)\n",
        "valid_labels = torch.from_numpy(ny_valid).long()\n",
        "\n",
        "test_tensor = torch.from_numpy(nX_test.values)\n",
        "\n",
        "from torch.utils.data import TensorDataset, DataLoader\n",
        "\n",
        "# create Tensor datasets\n",
        "train_data = TensorDataset(train_tensor, train_labels)\n",
        "valid_data = TensorDataset(valid_tensor, valid_labels)\n",
        "#test_data  = TensorDataset()\n",
        "\n",
        "# dataloaders\n",
        "batch_size = 1024\n",
        "train_loader = DataLoader(train_data, shuffle=True, batch_size=batch_size)\n",
        "\n",
        "# Batching for test\n",
        "valid_loader = DataLoader(valid_data, shuffle=False, batch_size=batch_size)\n",
        "#test_loader = DataLoader(test_data, shuffle=False, batch_size=len(test_data))"
      ],
      "execution_count": 0,
      "outputs": []
    },
    {
      "cell_type": "code",
      "metadata": {
        "id": "EwQEEmi0hwG4",
        "colab_type": "code",
        "outputId": "f89e9ea7-b216-4177-8209-8ee07884a2d7",
        "colab": {
          "base_uri": "https://localhost:8080/",
          "height": 36
        }
      },
      "source": [
        "train_on_gpu = torch.cuda.is_available()\n",
        "\n",
        "if not train_on_gpu:\n",
        "    print('CUDA is not available.  Training on CPU ...')\n",
        "else:\n",
        "    print('CUDA is available!  Training on GPU ...')"
      ],
      "execution_count": 35,
      "outputs": [
        {
          "output_type": "stream",
          "text": [
            "CUDA is available!  Training on GPU ...\n"
          ],
          "name": "stdout"
        }
      ]
    },
    {
      "cell_type": "code",
      "metadata": {
        "id": "JrKHj8eIuacr",
        "colab_type": "code",
        "colab": {}
      },
      "source": [
        "import re\n",
        "import numpy as np\n",
        "import torch\n",
        "from torch import nn, optim\n",
        "import torch.nn.functional as F\n",
        "\n",
        "\n",
        "class neural_network3(nn.Module):\n",
        "\n",
        "    def get_dims(self, df, cat_vars):\n",
        "        #print('get dim start')\n",
        "        var_szs = [len(set(df[var])) for var in cat_vars]\n",
        "        #a = [min(set(df[var])) for var in cat_vars]\n",
        "        #var_szs = [v+r for v,r in zip(var_szs,a)]\n",
        "        emb_dims = [min(50, (c+1)//2) for c in var_szs]\n",
        "\n",
        "        len_numeric_vars=0\n",
        "        for col in df.columns:\n",
        "          if not(col in cat_vars):\n",
        "            len_numeric_vars+=1    \n",
        "        avg = int(sum(emb_dims)/len(emb_dims))\n",
        "        inp_sz = avg *len_numeric_vars  + sum(emb_dims) \n",
        "        return var_szs, emb_dims, int(inp_sz), avg\n",
        "\n",
        "    def __init__(self, df, cat_vars, output_size):\n",
        "        super().__init__()\n",
        "        #self.orderd_cols = df.columns\n",
        "        #print('start')\n",
        "        self.cols_dic   = {i:col for i,col in enumerate(df.columns)}\n",
        "        self.cat_dict   = {}\n",
        "        self.numer_dict = {}\n",
        "        for i in range(len(df.columns)):\n",
        "          if(self.cols_dic[i] in cat_vars):\n",
        "            self.cat_dict[i] = self.cols_dic[i] \n",
        "          else:\n",
        "            self.numer_dict[i] = int(df[self.cols_dic[i]].mean())\n",
        "\n",
        "        #print('cols_dic',self.cols_dic)\n",
        "        #print('cat_dict',self.cat_dict)\n",
        "        #print('numer_dict',self.numer_dict)\n",
        "        var_szs, emb_dims, inp_sz, numer_var_sz = self.get_dims(df, cat_vars)\n",
        "        self.numer_sz = numer_var_sz\n",
        "        self.inp_sz = inp_sz\n",
        "        self.embedd_layers = nn.ModuleList([nn.Embedding(c, e) for c,e in zip(var_szs,emb_dims) ])\n",
        "        self.emb_lyr_dic  = {k:v for k,v in zip(self.cat_dict.keys(), self.embedd_layers )}\n",
        "        #print(self.emb_lyr_dic)\n",
        "        self.bn1 = nn.BatchNorm1d(num_features=inp_sz)\n",
        "        self.fc1 = nn.Linear(inp_sz, 64)\n",
        "        self.fc2 = nn.Linear(64, 64)\n",
        "        self.fc3 = nn.Linear(64, output_size)\n",
        "        self.dropout = nn.Dropout(0.25)\n",
        "\n",
        "    def construct_inp_vector(self,x):\n",
        "        #print('x:',x,x.shape)\n",
        "        final_inp_vctr = torch.zeros((len(x),self.inp_sz), device='cuda')\n",
        "        for j, raw in enumerate(x):\n",
        "          new_raw = torch.zeros(0,device='cuda')\n",
        "          for i, rcrd in enumerate(raw):\n",
        "            if i in self.cat_dict.keys():\n",
        "              #print('1:',rcrd.device)\n",
        "              t = self.emb_lyr_dic[i](rcrd.long())\n",
        "            else:\n",
        "              t = torch.ones(self.numer_sz, device='cuda') * rcrd\n",
        "\n",
        "            #print(new_raw.device, t.device)\n",
        "            new_raw = torch.cat((new_raw, t),dim=0)\n",
        "          #print('new_raw:',new_raw, new_raw.shape)\n",
        "          final_inp_vctr[j]= new_raw\n",
        "        #print('final_inp_vctr:\\n',final_inp_vctr, final_inp_vctr.shape )\n",
        "        return final_inp_vctr\n",
        "    def forward(self, x):\n",
        "        x = self.construct_inp_vector(x)\n",
        "        #x = self.bn1(x)\n",
        "        #print('after norm: \\n',x)\n",
        "        x = x.view(x.shape[0], -1)\n",
        "        x = F.relu(self.fc1(x))\n",
        "        x = self.dropout(x)\n",
        "        x = F.relu(self.fc2(x))\n",
        "        x = self.fc3(x)\n",
        "        \n",
        "        return x\n"
      ],
      "execution_count": 0,
      "outputs": []
    },
    {
      "cell_type": "code",
      "metadata": {
        "id": "IcI__4yN2F07",
        "colab_type": "code",
        "colab": {}
      },
      "source": [
        "nn_model =  neural_network3(df=x, cat_vars=cat_vars, output_size=12)\n",
        "if train_on_gpu:\n",
        "    nn_model.cuda()"
      ],
      "execution_count": 0,
      "outputs": []
    },
    {
      "cell_type": "code",
      "metadata": {
        "id": "NiW3WxdJrVRr",
        "colab_type": "code",
        "colab": {
          "base_uri": "https://localhost:8080/",
          "height": 484
        },
        "outputId": "822ea2d5-c0c2-45c5-f9ff-db42f3c09e9a"
      },
      "source": [
        "nn_model"
      ],
      "execution_count": 47,
      "outputs": [
        {
          "output_type": "execute_result",
          "data": {
            "text/plain": [
              "neural_network3(\n",
              "  (embedd_layers): ModuleList(\n",
              "    (0): Embedding(8, 4)\n",
              "    (1): Embedding(18, 9)\n",
              "    (2): Embedding(7, 4)\n",
              "    (3): Embedding(55, 28)\n",
              "    (4): Embedding(9, 5)\n",
              "    (5): Embedding(3, 2)\n",
              "    (6): Embedding(25, 13)\n",
              "    (7): Embedding(4, 2)\n",
              "    (8): Embedding(18, 9)\n",
              "    (9): Embedding(4, 2)\n",
              "    (10): Embedding(7, 4)\n",
              "    (11): Embedding(31, 16)\n",
              "    (12): Embedding(12, 6)\n",
              "    (13): Embedding(7, 4)\n",
              "    (14): Embedding(31, 16)\n",
              "    (15): Embedding(12, 6)\n",
              "  )\n",
              "  (bn1): BatchNorm1d(138, eps=1e-05, momentum=0.1, affine=True, track_running_stats=True)\n",
              "  (fc1): Linear(in_features=138, out_features=64, bias=True)\n",
              "  (fc2): Linear(in_features=64, out_features=64, bias=True)\n",
              "  (fc3): Linear(in_features=64, out_features=12, bias=True)\n",
              "  (dropout): Dropout(p=0.25, inplace=False)\n",
              ")"
            ]
          },
          "metadata": {
            "tags": []
          },
          "execution_count": 47
        }
      ]
    },
    {
      "cell_type": "code",
      "metadata": {
        "id": "UEnqwf7s4I8Q",
        "colab_type": "code",
        "colab": {}
      },
      "source": [
        "from torch import nn, optim\n",
        "\n",
        "criterion = nn.CrossEntropyLoss()  \n",
        "optimizer = optim.Adam(nn_model.parameters(), lr=0.003)"
      ],
      "execution_count": 0,
      "outputs": []
    },
    {
      "cell_type": "code",
      "metadata": {
        "id": "VhJP9HDg4I33",
        "colab_type": "code",
        "colab": {}
      },
      "source": [
        "def train_model(num_epochs, model, trainLoader, criterion, optimizer, saving_path):   \n",
        "    for e in range(num_epochs):\n",
        "        running_training_loss = 0\n",
        "        model.train()\n",
        "        for inputs, labels in trainLoader:\n",
        "            '''\n",
        "            if train_on_gpu:\n",
        "                inputs, labels = inputs.cuda(), labels.cuda()\n",
        "            '''\n",
        "            logits = model(inputs)\n",
        "            #print(labels, type(labels), labels.shape)\n",
        "            loss = criterion(logits, labels)        \n",
        "            optimizer.zero_grad()\n",
        "            loss.backward()\n",
        "            optimizer.step()\n",
        "            running_training_loss += loss.item()\n",
        "\n",
        "        train_loss = running_training_loss/len(trainLoader)\n",
        "\n",
        "        print(e,' Training loss: ',round(train_loss,6))\n"
      ],
      "execution_count": 0,
      "outputs": []
    },
    {
      "cell_type": "code",
      "metadata": {
        "id": "U05ysTA65scy",
        "colab_type": "code",
        "outputId": "a65a8cc0-189a-4f9c-cf53-b4fad6529179",
        "colab": {
          "base_uri": "https://localhost:8080/",
          "height": 36
        }
      },
      "source": [
        "train_labels.device"
      ],
      "execution_count": 50,
      "outputs": [
        {
          "output_type": "execute_result",
          "data": {
            "text/plain": [
              "device(type='cuda', index=0)"
            ]
          },
          "metadata": {
            "tags": []
          },
          "execution_count": 50
        }
      ]
    },
    {
      "cell_type": "code",
      "metadata": {
        "id": "-FipbYLW4Iw8",
        "colab_type": "code",
        "outputId": "d4a47365-1449-4aa4-bf66-c1434d3fa58a",
        "colab": {
          "base_uri": "https://localhost:8080/",
          "height": 390
        }
      },
      "source": [
        "train_model(20, nn_model, train_loader, criterion=criterion, optimizer=optimizer,\n",
        "                                                saving_path='JobFunctionModel.pt')"
      ],
      "execution_count": 51,
      "outputs": [
        {
          "output_type": "stream",
          "text": [
            "0  Training loss:  1.226943\n",
            "1  Training loss:  1.153644\n",
            "2  Training loss:  1.140757\n",
            "3  Training loss:  1.130711\n",
            "4  Training loss:  1.123895\n",
            "5  Training loss:  1.119226\n",
            "6  Training loss:  1.114685\n",
            "7  Training loss:  1.114654\n",
            "8  Training loss:  1.112205\n",
            "9  Training loss:  1.108834\n",
            "10  Training loss:  1.110866\n",
            "11  Training loss:  1.106597\n",
            "12  Training loss:  1.108577\n",
            "13  Training loss:  1.105007\n",
            "14  Training loss:  1.105628\n",
            "15  Training loss:  1.102856\n",
            "16  Training loss:  1.103015\n",
            "17  Training loss:  1.103528\n",
            "18  Training loss:  1.10087\n",
            "19  Training loss:  1.109709\n"
          ],
          "name": "stdout"
        }
      ]
    },
    {
      "cell_type": "code",
      "metadata": {
        "id": "CEd6m6pOYmWn",
        "colab_type": "code",
        "colab": {}
      },
      "source": [
        "torch.save(nn_model.state_dict(), 'model.pt')"
      ],
      "execution_count": 0,
      "outputs": []
    },
    {
      "cell_type": "code",
      "metadata": {
        "id": "erZfJkcM6n9Y",
        "colab_type": "code",
        "outputId": "8ea76b3f-6133-4094-86a6-5172b5e2dc9c",
        "colab": {
          "base_uri": "https://localhost:8080/",
          "height": 36
        }
      },
      "source": [
        "nn_model.eval()\n",
        "out = nn_model(valid_tensor.cuda())\n",
        "out.shape"
      ],
      "execution_count": 56,
      "outputs": [
        {
          "output_type": "execute_result",
          "data": {
            "text/plain": [
              "torch.Size([42690, 12])"
            ]
          },
          "metadata": {
            "tags": []
          },
          "execution_count": 56
        }
      ]
    },
    {
      "cell_type": "code",
      "metadata": {
        "id": "IFJnN_VZfAEu",
        "colab_type": "code",
        "colab": {
          "base_uri": "https://localhost:8080/",
          "height": 36
        },
        "outputId": "8a878f81-7493-4750-85a6-5aca96f0519e"
      },
      "source": [
        "ny_valid.shape"
      ],
      "execution_count": 57,
      "outputs": [
        {
          "output_type": "execute_result",
          "data": {
            "text/plain": [
              "(42690,)"
            ]
          },
          "metadata": {
            "tags": []
          },
          "execution_count": 57
        }
      ]
    },
    {
      "cell_type": "code",
      "metadata": {
        "id": "XvUINzK0e8IH",
        "colab_type": "code",
        "colab": {
          "base_uri": "https://localhost:8080/",
          "height": 36
        },
        "outputId": "c2eb734f-ffce-4b3b-8574-6198e4942dfa"
      },
      "source": [
        "outt = out.cpu().detach().numpy()\n",
        "true_relevance = np.zeros_like(outt)\n",
        "for i in range(len(true_relevance)):\n",
        "  indx = ny_valid[i]\n",
        "  true_relevance[i][indx]=1\n",
        "\n",
        "from sklearn.metrics import ndcg_score\n",
        "ndcg_score(true_relevance, outt)"
      ],
      "execution_count": 61,
      "outputs": [
        {
          "output_type": "execute_result",
          "data": {
            "text/plain": [
              "0.8447907009848524"
            ]
          },
          "metadata": {
            "tags": []
          },
          "execution_count": 61
        }
      ]
    },
    {
      "cell_type": "code",
      "metadata": {
        "id": "EEfAYgsghgwN",
        "colab_type": "code",
        "colab": {
          "base_uri": "https://localhost:8080/",
          "height": 36
        },
        "outputId": "55e41925-a85d-4551-985a-dc07d68c922b"
      },
      "source": [
        "nn_model.eval()\n",
        "out_test = nn_model(test_tensor.cuda())\n",
        "out_test.shape"
      ],
      "execution_count": 65,
      "outputs": [
        {
          "output_type": "execute_result",
          "data": {
            "text/plain": [
              "torch.Size([62096, 12])"
            ]
          },
          "metadata": {
            "tags": []
          },
          "execution_count": 65
        }
      ]
    },
    {
      "cell_type": "code",
      "metadata": {
        "id": "1gU9urwphxVj",
        "colab_type": "code",
        "colab": {
          "base_uri": "https://localhost:8080/",
          "height": 36
        },
        "outputId": "26defc8c-c403-4262-9fbe-8bdfb70c53bf"
      },
      "source": [
        "len(id_test)"
      ],
      "execution_count": 66,
      "outputs": [
        {
          "output_type": "execute_result",
          "data": {
            "text/plain": [
              "62096"
            ]
          },
          "metadata": {
            "tags": []
          },
          "execution_count": 66
        }
      ]
    },
    {
      "cell_type": "code",
      "metadata": {
        "id": "3BnNBuGCe70c",
        "colab_type": "code",
        "colab": {}
      },
      "source": [
        "y_pred = out_test.cpu().detach().numpy()\n",
        "label_encoder = LabelEncoder()\n",
        "label_encoder.fit(train_users.country_destination)\n",
        "\n",
        "ids = []  #list of ids\n",
        "cts = []  #list of countries\n",
        "for i in range(len(id_test)):\n",
        "    idx = id_test[i]\n",
        "    ids += [idx] * 5\n",
        "    cts += label_encoder.inverse_transform(np.argsort(y_pred[i])[::-1])[:5].tolist()"
      ],
      "execution_count": 0,
      "outputs": []
    },
    {
      "cell_type": "code",
      "metadata": {
        "id": "ljPUjpaTiZkP",
        "colab_type": "code",
        "colab": {
          "base_uri": "https://localhost:8080/",
          "height": 54
        },
        "outputId": "c6d964fe-c656-444a-a44a-acb3886185e8"
      },
      "source": [
        "label_encoder.classes_"
      ],
      "execution_count": 68,
      "outputs": [
        {
          "output_type": "execute_result",
          "data": {
            "text/plain": [
              "array(['AU', 'CA', 'DE', 'ES', 'FR', 'GB', 'IT', 'NDF', 'NL', 'PT', 'US',\n",
              "       'other'], dtype=object)"
            ]
          },
          "metadata": {
            "tags": []
          },
          "execution_count": 68
        }
      ]
    },
    {
      "cell_type": "code",
      "metadata": {
        "id": "TEAjnjnIiZRN",
        "colab_type": "code",
        "colab": {}
      },
      "source": [
        ""
      ],
      "execution_count": 0,
      "outputs": []
    },
    {
      "cell_type": "code",
      "metadata": {
        "id": "43xlvQQ9gXpz",
        "colab_type": "code",
        "colab": {}
      },
      "source": [
        "predict5 = pd.DataFrame(np.column_stack((ids, cts)), columns=['id', 'country'])"
      ],
      "execution_count": 0,
      "outputs": []
    },
    {
      "cell_type": "code",
      "metadata": {
        "id": "c3ARJFFNgXk0",
        "colab_type": "code",
        "colab": {}
      },
      "source": [
        "predict5.to_csv('prediction5.csv',index=False)"
      ],
      "execution_count": 0,
      "outputs": []
    },
    {
      "cell_type": "code",
      "metadata": {
        "id": "TvrLr_KUgXbc",
        "colab_type": "code",
        "colab": {
          "base_uri": "https://localhost:8080/",
          "height": 416
        },
        "outputId": "aa86ecbd-4b34-4e38-edbd-f749377aecfb"
      },
      "source": [
        "predict5"
      ],
      "execution_count": 74,
      "outputs": [
        {
          "output_type": "execute_result",
          "data": {
            "text/html": [
              "<div>\n",
              "<style scoped>\n",
              "    .dataframe tbody tr th:only-of-type {\n",
              "        vertical-align: middle;\n",
              "    }\n",
              "\n",
              "    .dataframe tbody tr th {\n",
              "        vertical-align: top;\n",
              "    }\n",
              "\n",
              "    .dataframe thead th {\n",
              "        text-align: right;\n",
              "    }\n",
              "</style>\n",
              "<table border=\"1\" class=\"dataframe\">\n",
              "  <thead>\n",
              "    <tr style=\"text-align: right;\">\n",
              "      <th></th>\n",
              "      <th>id</th>\n",
              "      <th>country</th>\n",
              "    </tr>\n",
              "  </thead>\n",
              "  <tbody>\n",
              "    <tr>\n",
              "      <th>0</th>\n",
              "      <td>5uwns89zht</td>\n",
              "      <td>NDF</td>\n",
              "    </tr>\n",
              "    <tr>\n",
              "      <th>1</th>\n",
              "      <td>5uwns89zht</td>\n",
              "      <td>US</td>\n",
              "    </tr>\n",
              "    <tr>\n",
              "      <th>2</th>\n",
              "      <td>5uwns89zht</td>\n",
              "      <td>other</td>\n",
              "    </tr>\n",
              "    <tr>\n",
              "      <th>3</th>\n",
              "      <td>5uwns89zht</td>\n",
              "      <td>FR</td>\n",
              "    </tr>\n",
              "    <tr>\n",
              "      <th>4</th>\n",
              "      <td>5uwns89zht</td>\n",
              "      <td>IT</td>\n",
              "    </tr>\n",
              "    <tr>\n",
              "      <th>...</th>\n",
              "      <td>...</td>\n",
              "      <td>...</td>\n",
              "    </tr>\n",
              "    <tr>\n",
              "      <th>310475</th>\n",
              "      <td>9uqfg8txu3</td>\n",
              "      <td>NDF</td>\n",
              "    </tr>\n",
              "    <tr>\n",
              "      <th>310476</th>\n",
              "      <td>9uqfg8txu3</td>\n",
              "      <td>US</td>\n",
              "    </tr>\n",
              "    <tr>\n",
              "      <th>310477</th>\n",
              "      <td>9uqfg8txu3</td>\n",
              "      <td>other</td>\n",
              "    </tr>\n",
              "    <tr>\n",
              "      <th>310478</th>\n",
              "      <td>9uqfg8txu3</td>\n",
              "      <td>FR</td>\n",
              "    </tr>\n",
              "    <tr>\n",
              "      <th>310479</th>\n",
              "      <td>9uqfg8txu3</td>\n",
              "      <td>IT</td>\n",
              "    </tr>\n",
              "  </tbody>\n",
              "</table>\n",
              "<p>310480 rows × 2 columns</p>\n",
              "</div>"
            ],
            "text/plain": [
              "                id country\n",
              "0       5uwns89zht     NDF\n",
              "1       5uwns89zht      US\n",
              "2       5uwns89zht   other\n",
              "3       5uwns89zht      FR\n",
              "4       5uwns89zht      IT\n",
              "...            ...     ...\n",
              "310475  9uqfg8txu3     NDF\n",
              "310476  9uqfg8txu3      US\n",
              "310477  9uqfg8txu3   other\n",
              "310478  9uqfg8txu3      FR\n",
              "310479  9uqfg8txu3      IT\n",
              "\n",
              "[310480 rows x 2 columns]"
            ]
          },
          "metadata": {
            "tags": []
          },
          "execution_count": 74
        }
      ]
    },
    {
      "cell_type": "code",
      "metadata": {
        "id": "Lhmi5akb43vX",
        "colab_type": "code",
        "colab": {}
      },
      "source": [
        ""
      ],
      "execution_count": 0,
      "outputs": []
    },
    {
      "cell_type": "code",
      "metadata": {
        "id": "_xItt1-643qd",
        "colab_type": "code",
        "colab": {}
      },
      "source": [
        ""
      ],
      "execution_count": 0,
      "outputs": []
    },
    {
      "cell_type": "code",
      "metadata": {
        "id": "aGzFJPwN43mt",
        "colab_type": "code",
        "colab": {}
      },
      "source": [
        ""
      ],
      "execution_count": 0,
      "outputs": []
    },
    {
      "cell_type": "code",
      "metadata": {
        "id": "WfUATv9243j8",
        "colab_type": "code",
        "colab": {}
      },
      "source": [
        ""
      ],
      "execution_count": 0,
      "outputs": []
    },
    {
      "cell_type": "markdown",
      "metadata": {
        "id": "AgK75L-49nFF",
        "colab_type": "text"
      },
      "source": [
        "# draft"
      ]
    },
    {
      "cell_type": "code",
      "metadata": {
        "id": "E6lpi52XsXRe",
        "colab_type": "code",
        "outputId": "36107a99-b2b8-49c7-90cf-bb176f746685",
        "colab": {
          "base_uri": "https://localhost:8080/",
          "height": 426
        }
      },
      "source": [
        "df"
      ],
      "execution_count": 0,
      "outputs": [
        {
          "output_type": "execute_result",
          "data": {
            "text/html": [
              "<div>\n",
              "<style scoped>\n",
              "    .dataframe tbody tr th:only-of-type {\n",
              "        vertical-align: middle;\n",
              "    }\n",
              "\n",
              "    .dataframe tbody tr th {\n",
              "        vertical-align: top;\n",
              "    }\n",
              "\n",
              "    .dataframe thead th {\n",
              "        text-align: right;\n",
              "    }\n",
              "</style>\n",
              "<table border=\"1\" class=\"dataframe\">\n",
              "  <thead>\n",
              "    <tr style=\"text-align: right;\">\n",
              "      <th></th>\n",
              "      <th>affiliate_channel</th>\n",
              "      <th>affiliate_provider</th>\n",
              "      <th>age</th>\n",
              "      <th>country_destination</th>\n",
              "      <th>first_affiliate_tracked</th>\n",
              "      <th>first_browser</th>\n",
              "      <th>first_device_type</th>\n",
              "      <th>gender</th>\n",
              "      <th>language</th>\n",
              "      <th>signup_app</th>\n",
              "      <th>signup_flow</th>\n",
              "      <th>signup_method</th>\n",
              "      <th>weekday_account_created</th>\n",
              "      <th>day_account_created</th>\n",
              "      <th>month_account_created</th>\n",
              "      <th>weekday_first_active</th>\n",
              "      <th>day_first_active</th>\n",
              "      <th>month_first_active</th>\n",
              "    </tr>\n",
              "  </thead>\n",
              "  <tbody>\n",
              "    <tr>\n",
              "      <th>0</th>\n",
              "      <td>direct</td>\n",
              "      <td>direct</td>\n",
              "      <td>36.0</td>\n",
              "      <td>NDF</td>\n",
              "      <td>untracked</td>\n",
              "      <td>Chrome</td>\n",
              "      <td>Mac Desktop</td>\n",
              "      <td>FEMALE</td>\n",
              "      <td>en</td>\n",
              "      <td>Web</td>\n",
              "      <td>0</td>\n",
              "      <td>facebook</td>\n",
              "      <td>Monday</td>\n",
              "      <td>28</td>\n",
              "      <td>6</td>\n",
              "      <td>Thursday</td>\n",
              "      <td>19</td>\n",
              "      <td>3</td>\n",
              "    </tr>\n",
              "    <tr>\n",
              "      <th>1</th>\n",
              "      <td>seo</td>\n",
              "      <td>google</td>\n",
              "      <td>38.0</td>\n",
              "      <td>NDF</td>\n",
              "      <td>untracked</td>\n",
              "      <td>Chrome</td>\n",
              "      <td>Mac Desktop</td>\n",
              "      <td>MALE</td>\n",
              "      <td>en</td>\n",
              "      <td>Web</td>\n",
              "      <td>0</td>\n",
              "      <td>facebook</td>\n",
              "      <td>Wednesday</td>\n",
              "      <td>25</td>\n",
              "      <td>5</td>\n",
              "      <td>Saturday</td>\n",
              "      <td>23</td>\n",
              "      <td>5</td>\n",
              "    </tr>\n",
              "    <tr>\n",
              "      <th>2</th>\n",
              "      <td>direct</td>\n",
              "      <td>direct</td>\n",
              "      <td>56.0</td>\n",
              "      <td>US</td>\n",
              "      <td>untracked</td>\n",
              "      <td>IE</td>\n",
              "      <td>Windows Desktop</td>\n",
              "      <td>FEMALE</td>\n",
              "      <td>en</td>\n",
              "      <td>Web</td>\n",
              "      <td>3</td>\n",
              "      <td>basic</td>\n",
              "      <td>Tuesday</td>\n",
              "      <td>28</td>\n",
              "      <td>9</td>\n",
              "      <td>Tuesday</td>\n",
              "      <td>9</td>\n",
              "      <td>6</td>\n",
              "    </tr>\n",
              "    <tr>\n",
              "      <th>3</th>\n",
              "      <td>direct</td>\n",
              "      <td>direct</td>\n",
              "      <td>42.0</td>\n",
              "      <td>other</td>\n",
              "      <td>untracked</td>\n",
              "      <td>Firefox</td>\n",
              "      <td>Mac Desktop</td>\n",
              "      <td>FEMALE</td>\n",
              "      <td>en</td>\n",
              "      <td>Web</td>\n",
              "      <td>0</td>\n",
              "      <td>facebook</td>\n",
              "      <td>Monday</td>\n",
              "      <td>5</td>\n",
              "      <td>12</td>\n",
              "      <td>Saturday</td>\n",
              "      <td>31</td>\n",
              "      <td>10</td>\n",
              "    </tr>\n",
              "    <tr>\n",
              "      <th>4</th>\n",
              "      <td>direct</td>\n",
              "      <td>direct</td>\n",
              "      <td>41.0</td>\n",
              "      <td>US</td>\n",
              "      <td>untracked</td>\n",
              "      <td>Chrome</td>\n",
              "      <td>Mac Desktop</td>\n",
              "      <td>FEMALE</td>\n",
              "      <td>en</td>\n",
              "      <td>Web</td>\n",
              "      <td>0</td>\n",
              "      <td>basic</td>\n",
              "      <td>Tuesday</td>\n",
              "      <td>14</td>\n",
              "      <td>9</td>\n",
              "      <td>Tuesday</td>\n",
              "      <td>8</td>\n",
              "      <td>12</td>\n",
              "    </tr>\n",
              "    <tr>\n",
              "      <th>...</th>\n",
              "      <td>...</td>\n",
              "      <td>...</td>\n",
              "      <td>...</td>\n",
              "      <td>...</td>\n",
              "      <td>...</td>\n",
              "      <td>...</td>\n",
              "      <td>...</td>\n",
              "      <td>...</td>\n",
              "      <td>...</td>\n",
              "      <td>...</td>\n",
              "      <td>...</td>\n",
              "      <td>...</td>\n",
              "      <td>...</td>\n",
              "      <td>...</td>\n",
              "      <td>...</td>\n",
              "      <td>...</td>\n",
              "      <td>...</td>\n",
              "      <td>...</td>\n",
              "    </tr>\n",
              "    <tr>\n",
              "      <th>275542</th>\n",
              "      <td>direct</td>\n",
              "      <td>direct</td>\n",
              "      <td>31.0</td>\n",
              "      <td>NaN</td>\n",
              "      <td>untracked</td>\n",
              "      <td>IE</td>\n",
              "      <td>Windows Desktop</td>\n",
              "      <td>FEMALE</td>\n",
              "      <td>en</td>\n",
              "      <td>Web</td>\n",
              "      <td>0</td>\n",
              "      <td>basic</td>\n",
              "      <td>Tuesday</td>\n",
              "      <td>30</td>\n",
              "      <td>9</td>\n",
              "      <td>Tuesday</td>\n",
              "      <td>30</td>\n",
              "      <td>9</td>\n",
              "    </tr>\n",
              "    <tr>\n",
              "      <th>275543</th>\n",
              "      <td>direct</td>\n",
              "      <td>direct</td>\n",
              "      <td>36.0</td>\n",
              "      <td>NaN</td>\n",
              "      <td>untracked</td>\n",
              "      <td>-unknown-</td>\n",
              "      <td>Android Phone</td>\n",
              "      <td>FEMALE</td>\n",
              "      <td>ko</td>\n",
              "      <td>Android</td>\n",
              "      <td>23</td>\n",
              "      <td>basic</td>\n",
              "      <td>Tuesday</td>\n",
              "      <td>30</td>\n",
              "      <td>9</td>\n",
              "      <td>Tuesday</td>\n",
              "      <td>30</td>\n",
              "      <td>9</td>\n",
              "    </tr>\n",
              "    <tr>\n",
              "      <th>275544</th>\n",
              "      <td>direct</td>\n",
              "      <td>direct</td>\n",
              "      <td>36.0</td>\n",
              "      <td>NaN</td>\n",
              "      <td>linked</td>\n",
              "      <td>Firefox</td>\n",
              "      <td>Windows Desktop</td>\n",
              "      <td>FEMALE</td>\n",
              "      <td>de</td>\n",
              "      <td>Web</td>\n",
              "      <td>0</td>\n",
              "      <td>basic</td>\n",
              "      <td>Tuesday</td>\n",
              "      <td>30</td>\n",
              "      <td>9</td>\n",
              "      <td>Tuesday</td>\n",
              "      <td>30</td>\n",
              "      <td>9</td>\n",
              "    </tr>\n",
              "    <tr>\n",
              "      <th>275545</th>\n",
              "      <td>sem-brand</td>\n",
              "      <td>google</td>\n",
              "      <td>36.0</td>\n",
              "      <td>NaN</td>\n",
              "      <td>omg</td>\n",
              "      <td>Safari</td>\n",
              "      <td>Mac Desktop</td>\n",
              "      <td>FEMALE</td>\n",
              "      <td>en</td>\n",
              "      <td>Web</td>\n",
              "      <td>0</td>\n",
              "      <td>basic</td>\n",
              "      <td>Tuesday</td>\n",
              "      <td>30</td>\n",
              "      <td>9</td>\n",
              "      <td>Tuesday</td>\n",
              "      <td>30</td>\n",
              "      <td>9</td>\n",
              "    </tr>\n",
              "    <tr>\n",
              "      <th>275546</th>\n",
              "      <td>other</td>\n",
              "      <td>other</td>\n",
              "      <td>49.0</td>\n",
              "      <td>NaN</td>\n",
              "      <td>tracked-other</td>\n",
              "      <td>Chrome</td>\n",
              "      <td>Windows Desktop</td>\n",
              "      <td>FEMALE</td>\n",
              "      <td>en</td>\n",
              "      <td>Web</td>\n",
              "      <td>0</td>\n",
              "      <td>basic</td>\n",
              "      <td>Tuesday</td>\n",
              "      <td>30</td>\n",
              "      <td>9</td>\n",
              "      <td>Tuesday</td>\n",
              "      <td>30</td>\n",
              "      <td>9</td>\n",
              "    </tr>\n",
              "  </tbody>\n",
              "</table>\n",
              "<p>275547 rows × 18 columns</p>\n",
              "</div>"
            ],
            "text/plain": [
              "       affiliate_channel  ... month_first_active\n",
              "0                 direct  ...                  3\n",
              "1                    seo  ...                  5\n",
              "2                 direct  ...                  6\n",
              "3                 direct  ...                 10\n",
              "4                 direct  ...                 12\n",
              "...                  ...  ...                ...\n",
              "275542            direct  ...                  9\n",
              "275543            direct  ...                  9\n",
              "275544            direct  ...                  9\n",
              "275545         sem-brand  ...                  9\n",
              "275546             other  ...                  9\n",
              "\n",
              "[275547 rows x 18 columns]"
            ]
          },
          "metadata": {
            "tags": []
          },
          "execution_count": 382
        }
      ]
    },
    {
      "cell_type": "code",
      "metadata": {
        "id": "Dfl2p_9P-KvA",
        "colab_type": "code",
        "outputId": "8dd3e67b-2fd1-4372-ef57-c9c96a9773a7",
        "colab": {
          "base_uri": "https://localhost:8080/",
          "height": 357
        }
      },
      "source": [
        "for col in nX_new_train.columns:\n",
        "    print( col,set(nX_new_train[col]))"
      ],
      "execution_count": 0,
      "outputs": [
        {
          "output_type": "stream",
          "text": [
            "affiliate_channel {0, 1, 2, 3, 4, 5, 6, 7}\n",
            "affiliate_provider {0, 1, 2, 4, 5, 6, 7, 8, 9, 10, 11, 12, 13, 14, 15, 16, 17}\n",
            "age {16.0, 17.0, 18.0, 19.0, 20.0, 21.0, 22.0, 23.0, 24.0, 25.0, 26.0, 27.0, 28.0, 29.0, 30.0, 31.0, 32.0, 33.0, 34.0, 35.0, 36.0, 37.0, 38.0, 39.0, 40.0, 41.0, 42.0, 43.0, 44.0, 45.0, 46.0, 47.0, 48.0, 49.0, 50.0, 51.0, 52.0, 53.0, 54.0, 55.0, 56.0, 57.0, 58.0, 59.0, 60.0, 61.0, 62.0, 63.0, 64.0, 65.0, 66.0, 67.0, 68.0, 69.0, 70.0, 71.0, 72.0, 73.0, 74.0, 75.0, 76.0, 77.0, 78.0, 79.0, 80.0, 81.0, 82.0, 83.0, 84.0, 85.0, 86.0, 87.0, 88.0, 89.0, 90.0, 91.0, 92.0, 93.0, 94.0, 95.0, 96.0, 97.0, 98.0, 99.0, 100.0}\n",
            "first_affiliate_tracked {0, 1, 2, 3, 4, 5, 6}\n",
            "first_browser {0, 1, 2, 3, 4, 5, 6, 7, 8, 9, 10, 11, 12, 13, 14, 15, 16, 17, 18, 19, 20, 22, 23, 25, 26, 27, 28, 29, 30, 31, 32, 34, 35, 36, 37, 39, 40, 41, 42, 43, 44, 45, 46, 47, 48, 49, 50, 51, 53, 54}\n",
            "first_device_type {0, 1, 2, 3, 4, 5, 6, 7, 8}\n",
            "gender {0, 1, 2}\n",
            "language {0, 1, 2, 3, 4, 5, 6, 7, 8, 9, 10, 11, 12, 13, 14, 15, 16, 17, 18, 19, 20, 21, 22, 23, 24}\n",
            "signup_app {0, 1, 2, 3}\n",
            "signup_flow {0, 1, 2, 3, 4, 5, 6, 7, 8, 9, 11, 12, 13, 14, 15, 16, 17}\n",
            "signup_method {0, 1}\n",
            "weekday_account_created {0, 1, 2, 3, 4, 5, 6}\n",
            "day_account_created {0, 1, 2, 3, 4, 5, 6, 7, 8, 9, 10, 11, 12, 13, 14, 15, 16, 17, 18, 19, 20, 21, 22, 23, 24, 25, 26, 27, 28, 29, 30}\n",
            "month_account_created {0, 1, 2, 3, 4, 5, 6, 7, 8, 9, 10, 11}\n",
            "weekday_first_active {0, 1, 2, 3, 4, 5, 6}\n",
            "day_first_active {0, 1, 2, 3, 4, 5, 6, 7, 8, 9, 10, 11, 12, 13, 14, 15, 16, 17, 18, 19, 20, 21, 22, 23, 24, 25, 26, 27, 28, 29, 30}\n",
            "month_first_active {0, 1, 2, 3, 4, 5, 6, 7, 8, 9, 10, 11}\n"
          ],
          "name": "stdout"
        }
      ]
    },
    {
      "cell_type": "code",
      "metadata": {
        "id": "v_tms1o5un1O",
        "colab_type": "code",
        "outputId": "4584955a-5aa2-4ea6-f0cb-d3393f914913",
        "colab": {
          "base_uri": "https://localhost:8080/",
          "height": 357
        }
      },
      "source": [
        "for col in nX_new_train.columns:\n",
        "    print( col,set(nX_new_train[col]))"
      ],
      "execution_count": 0,
      "outputs": [
        {
          "output_type": "stream",
          "text": [
            "affiliate_channel {0, 1, 2, 3, 4, 5, 6, 7}\n",
            "affiliate_provider {0, 1, 2, 4, 5, 6, 7, 8, 9, 10, 11, 12, 13, 14, 15, 16, 17}\n",
            "age {16.0, 17.0, 18.0, 19.0, 20.0, 21.0, 22.0, 23.0, 24.0, 25.0, 26.0, 27.0, 28.0, 29.0, 30.0, 31.0, 32.0, 33.0, 34.0, 35.0, 36.0, 37.0, 38.0, 39.0, 40.0, 41.0, 42.0, 43.0, 44.0, 45.0, 46.0, 47.0, 48.0, 49.0, 50.0, 51.0, 52.0, 53.0, 54.0, 55.0, 56.0, 57.0, 58.0, 59.0, 60.0, 61.0, 62.0, 63.0, 64.0, 65.0, 66.0, 67.0, 68.0, 69.0, 70.0, 71.0, 72.0, 73.0, 74.0, 75.0, 76.0, 77.0, 78.0, 79.0, 80.0, 81.0, 82.0, 83.0, 84.0, 85.0, 86.0, 87.0, 88.0, 89.0, 90.0, 91.0, 92.0, 93.0, 94.0, 95.0, 96.0, 97.0, 98.0, 99.0, 100.0}\n",
            "first_affiliate_tracked {0, 1, 2, 3, 4, 5, 6}\n",
            "first_browser {0, 1, 2, 3, 4, 5, 6, 7, 8, 9, 10, 11, 12, 13, 14, 15, 16, 17, 18, 19, 20, 22, 23, 25, 26, 27, 28, 29, 30, 31, 32, 34, 35, 36, 37, 39, 40, 41, 42, 43, 44, 45, 46, 47, 48, 49, 50, 51, 53, 54}\n",
            "first_device_type {0, 1, 2, 3, 4, 5, 6, 7, 8}\n",
            "gender {0, 1, 2}\n",
            "language {0, 1, 2, 3, 4, 5, 6, 7, 8, 9, 10, 11, 12, 13, 14, 15, 16, 17, 18, 19, 20, 21, 22, 23, 24}\n",
            "signup_app {0, 1, 2, 3}\n",
            "signup_flow {0, 1, 2, 3, 4, 5, 6, 7, 8, 9, 11, 12, 13, 14, 15, 16, 17}\n",
            "signup_method {0, 1}\n",
            "weekday_account_created {0, 1, 2, 3, 4, 5, 6}\n",
            "day_account_created {0, 1, 2, 3, 4, 5, 6, 7, 8, 9, 10, 11, 12, 13, 14, 15, 16, 17, 18, 19, 20, 21, 22, 23, 24, 25, 26, 27, 28, 29, 30}\n",
            "month_account_created {0, 1, 2, 3, 4, 5, 6, 7, 8, 9, 10, 11}\n",
            "weekday_first_active {0, 1, 2, 3, 4, 5, 6}\n",
            "day_first_active {0, 1, 2, 3, 4, 5, 6, 7, 8, 9, 10, 11, 12, 13, 14, 15, 16, 17, 18, 19, 20, 21, 22, 23, 24, 25, 26, 27, 28, 29, 30}\n",
            "month_first_active {0, 1, 2, 3, 4, 5, 6, 7, 8, 9, 10, 11}\n"
          ],
          "name": "stdout"
        }
      ]
    },
    {
      "cell_type": "code",
      "metadata": {
        "id": "_GJl5uJwtNF2",
        "colab_type": "code",
        "outputId": "18dc90b6-87f6-4388-d84f-055618ee93b1",
        "colab": {
          "base_uri": "https://localhost:8080/",
          "height": 54
        }
      },
      "source": [
        "torch.unique(train_tensor[:,1])"
      ],
      "execution_count": 0,
      "outputs": [
        {
          "output_type": "execute_result",
          "data": {
            "text/plain": [
              "tensor([ 0.,  1.,  2.,  4.,  5.,  6.,  7.,  8.,  9., 10., 11., 12., 13., 14.,\n",
              "        15., 16., 17.], dtype=torch.float64)"
            ]
          },
          "metadata": {
            "tags": []
          },
          "execution_count": 387
        }
      ]
    },
    {
      "cell_type": "code",
      "metadata": {
        "id": "SzqhM73K8clJ",
        "colab_type": "code",
        "outputId": "b0d992fb-5db6-414a-f551-96fb190cffd7",
        "colab": {
          "base_uri": "https://localhost:8080/",
          "height": 35
        }
      },
      "source": [
        "print(\"Train a XGBoost model\")\n",
        "xg_train = xgb.DMatrix(X_new_train, label=y_new_train)#Specifying the hyperparameters\n",
        "gbm = xgb.train(params, xg_train, num_boost_round)"
      ],
      "execution_count": 0,
      "outputs": [
        {
          "output_type": "stream",
          "text": [
            "Train a XGBoost model\n"
          ],
          "name": "stdout"
        }
      ]
    },
    {
      "cell_type": "code",
      "metadata": {
        "id": "Se44eDYo1f31",
        "colab_type": "code",
        "colab": {}
      },
      "source": [
        "df2 = pd.DataFrame(np.array([[36, 1, 1], [35, 2, 2], [34, 3, 2], [28, 7, 2]]),\n",
        "                   columns=['a', 'b', 'c'])"
      ],
      "execution_count": 0,
      "outputs": []
    },
    {
      "cell_type": "code",
      "metadata": {
        "id": "RgsFPba68chn",
        "colab_type": "code",
        "outputId": "95fda942-a016-4a5b-a2c2-6400ebd2cd70",
        "colab": {
          "base_uri": "https://localhost:8080/",
          "height": 35
        }
      },
      "source": [
        "y_pred = gbm.predict(xgb.DMatrix(X_new_train))\n",
        "true_relevance = np.zeros_like(y_pred)\n",
        "for i in range(len(true_relevance)):\n",
        "  indx = y_new_train[i]\n",
        "  true_relevance[i][indx]=1\n",
        "\n",
        "from sklearn.metrics import ndcg_score\n",
        "ndcg_score(true_relevance, y_pred)"
      ],
      "execution_count": 0,
      "outputs": [
        {
          "output_type": "execute_result",
          "data": {
            "text/plain": [
              "0.8435463806451006"
            ]
          },
          "metadata": {
            "tags": []
          },
          "execution_count": 375
        }
      ]
    },
    {
      "cell_type": "code",
      "metadata": {
        "id": "MRxmqIX8kaCb",
        "colab_type": "code",
        "outputId": "1afea91b-fff0-4f6f-9997-3bbe98b608bc",
        "colab": {
          "base_uri": "https://localhost:8080/",
          "height": 357
        }
      },
      "source": [
        "for col in X_new_train.columns:\n",
        "    print( col[:6],set(X_new_train[col]))"
      ],
      "execution_count": 0,
      "outputs": [
        {
          "output_type": "stream",
          "text": [
            "affili {1, 2, 3, 4, 5, 6, 7, 8}\n",
            "affili {1, 2, 3, 5, 6, 7, 8, 9, 10, 11, 12, 13, 14, 15, 16, 17, 18}\n",
            "age {16.0, 17.0, 18.0, 19.0, 20.0, 21.0, 22.0, 23.0, 24.0, 25.0, 26.0, 27.0, 28.0, 29.0, 30.0, 31.0, 32.0, 33.0, 34.0, 35.0, 36.0, 37.0, 38.0, 39.0, 40.0, 41.0, 42.0, 43.0, 44.0, 45.0, 46.0, 47.0, 48.0, 49.0, 50.0, 51.0, 52.0, 53.0, 54.0, 55.0, 56.0, 57.0, 58.0, 59.0, 60.0, 61.0, 62.0, 63.0, 64.0, 65.0, 66.0, 67.0, 68.0, 69.0, 70.0, 71.0, 72.0, 73.0, 74.0, 75.0, 76.0, 77.0, 78.0, 79.0, 80.0, 81.0, 82.0, 83.0, 84.0, 85.0, 86.0, 87.0, 88.0, 89.0, 90.0, 91.0, 92.0, 93.0, 94.0, 95.0, 96.0, 97.0, 98.0, 99.0, 100.0}\n",
            "first_ {1, 2, 3, 4, 5, 6, 7}\n",
            "first_ {1, 2, 3, 4, 5, 6, 7, 8, 9, 10, 11, 12, 13, 14, 15, 16, 17, 18, 19, 20, 21, 23, 24, 26, 27, 28, 29, 30, 31, 32, 33, 35, 36, 37, 38, 40, 41, 42, 43, 44, 45, 46, 47, 48, 49, 50, 51, 52, 54, 55}\n",
            "first_ {1, 2, 3, 4, 5, 6, 7, 8, 9}\n",
            "gender {1, 2, 3}\n",
            "langua {1, 2, 3, 4, 5, 6, 7, 8, 9, 10, 11, 12, 13, 14, 15, 16, 17, 18, 19, 20, 21, 22, 23, 24, 25}\n",
            "signup {1, 2, 3, 4}\n",
            "signup {0, 1, 2, 3, 4, 5, 6, 8, 10, 12, 15, 16, 20, 21, 23, 24, 25}\n",
            "signup {1, 2}\n",
            "weekda {1, 2, 3, 4, 5, 6, 7}\n",
            "day_ac {1, 2, 3, 4, 5, 6, 7, 8, 9, 10, 11, 12, 13, 14, 15, 16, 17, 18, 19, 20, 21, 22, 23, 24, 25, 26, 27, 28, 29, 30, 31}\n",
            "month_ {1, 2, 3, 4, 5, 6, 7, 8, 9, 10, 11, 12}\n",
            "weekda {1, 2, 3, 4, 5, 6, 7}\n",
            "day_fi {1, 2, 3, 4, 5, 6, 7, 8, 9, 10, 11, 12, 13, 14, 15, 16, 17, 18, 19, 20, 21, 22, 23, 24, 25, 26, 27, 28, 29, 30, 31}\n",
            "month_ {1, 2, 3, 4, 5, 6, 7, 8, 9, 10, 11, 12}\n"
          ],
          "name": "stdout"
        }
      ]
    },
    {
      "cell_type": "code",
      "metadata": {
        "id": "mRMSu7zI4I1a",
        "colab_type": "code",
        "colab": {}
      },
      "source": [
        "for aa,bb in zip(df['country_destination'][n_new_trn-20:n_new_trn],train_labels[-20:]):\n",
        "  print(aa,bb.item())"
      ],
      "execution_count": 0,
      "outputs": []
    },
    {
      "cell_type": "code",
      "metadata": {
        "id": "JR6WuVWkk97p",
        "colab_type": "code",
        "colab": {
          "base_uri": "https://localhost:8080/",
          "height": 436
        },
        "outputId": "244a84bc-39ca-4e73-fbf2-5bb2f9677f5c"
      },
      "source": [
        "x"
      ],
      "execution_count": 76,
      "outputs": [
        {
          "output_type": "execute_result",
          "data": {
            "text/html": [
              "<div>\n",
              "<style scoped>\n",
              "    .dataframe tbody tr th:only-of-type {\n",
              "        vertical-align: middle;\n",
              "    }\n",
              "\n",
              "    .dataframe tbody tr th {\n",
              "        vertical-align: top;\n",
              "    }\n",
              "\n",
              "    .dataframe thead th {\n",
              "        text-align: right;\n",
              "    }\n",
              "</style>\n",
              "<table border=\"1\" class=\"dataframe\">\n",
              "  <thead>\n",
              "    <tr style=\"text-align: right;\">\n",
              "      <th></th>\n",
              "      <th>affiliate_channel</th>\n",
              "      <th>affiliate_provider</th>\n",
              "      <th>age</th>\n",
              "      <th>first_affiliate_tracked</th>\n",
              "      <th>first_browser</th>\n",
              "      <th>first_device_type</th>\n",
              "      <th>gender</th>\n",
              "      <th>language</th>\n",
              "      <th>signup_app</th>\n",
              "      <th>signup_flow</th>\n",
              "      <th>signup_method</th>\n",
              "      <th>weekday_account_created</th>\n",
              "      <th>day_account_created</th>\n",
              "      <th>month_account_created</th>\n",
              "      <th>weekday_first_active</th>\n",
              "      <th>day_first_active</th>\n",
              "      <th>month_first_active</th>\n",
              "    </tr>\n",
              "  </thead>\n",
              "  <tbody>\n",
              "    <tr>\n",
              "      <th>0</th>\n",
              "      <td>2</td>\n",
              "      <td>4</td>\n",
              "      <td>36.0</td>\n",
              "      <td>6</td>\n",
              "      <td>8</td>\n",
              "      <td>3</td>\n",
              "      <td>0</td>\n",
              "      <td>5</td>\n",
              "      <td>2</td>\n",
              "      <td>0</td>\n",
              "      <td>1</td>\n",
              "      <td>1</td>\n",
              "      <td>27</td>\n",
              "      <td>5</td>\n",
              "      <td>4</td>\n",
              "      <td>18</td>\n",
              "      <td>2</td>\n",
              "    </tr>\n",
              "    <tr>\n",
              "      <th>1</th>\n",
              "      <td>7</td>\n",
              "      <td>8</td>\n",
              "      <td>38.0</td>\n",
              "      <td>6</td>\n",
              "      <td>8</td>\n",
              "      <td>3</td>\n",
              "      <td>1</td>\n",
              "      <td>5</td>\n",
              "      <td>2</td>\n",
              "      <td>0</td>\n",
              "      <td>1</td>\n",
              "      <td>6</td>\n",
              "      <td>24</td>\n",
              "      <td>4</td>\n",
              "      <td>2</td>\n",
              "      <td>22</td>\n",
              "      <td>4</td>\n",
              "    </tr>\n",
              "    <tr>\n",
              "      <th>2</th>\n",
              "      <td>2</td>\n",
              "      <td>4</td>\n",
              "      <td>56.0</td>\n",
              "      <td>6</td>\n",
              "      <td>22</td>\n",
              "      <td>6</td>\n",
              "      <td>0</td>\n",
              "      <td>5</td>\n",
              "      <td>2</td>\n",
              "      <td>3</td>\n",
              "      <td>0</td>\n",
              "      <td>5</td>\n",
              "      <td>27</td>\n",
              "      <td>8</td>\n",
              "      <td>5</td>\n",
              "      <td>8</td>\n",
              "      <td>5</td>\n",
              "    </tr>\n",
              "    <tr>\n",
              "      <th>3</th>\n",
              "      <td>2</td>\n",
              "      <td>4</td>\n",
              "      <td>42.0</td>\n",
              "      <td>6</td>\n",
              "      <td>17</td>\n",
              "      <td>3</td>\n",
              "      <td>0</td>\n",
              "      <td>5</td>\n",
              "      <td>2</td>\n",
              "      <td>0</td>\n",
              "      <td>1</td>\n",
              "      <td>1</td>\n",
              "      <td>4</td>\n",
              "      <td>11</td>\n",
              "      <td>2</td>\n",
              "      <td>30</td>\n",
              "      <td>9</td>\n",
              "    </tr>\n",
              "    <tr>\n",
              "      <th>4</th>\n",
              "      <td>2</td>\n",
              "      <td>4</td>\n",
              "      <td>41.0</td>\n",
              "      <td>6</td>\n",
              "      <td>8</td>\n",
              "      <td>3</td>\n",
              "      <td>0</td>\n",
              "      <td>5</td>\n",
              "      <td>2</td>\n",
              "      <td>0</td>\n",
              "      <td>0</td>\n",
              "      <td>5</td>\n",
              "      <td>13</td>\n",
              "      <td>8</td>\n",
              "      <td>5</td>\n",
              "      <td>7</td>\n",
              "      <td>11</td>\n",
              "    </tr>\n",
              "    <tr>\n",
              "      <th>...</th>\n",
              "      <td>...</td>\n",
              "      <td>...</td>\n",
              "      <td>...</td>\n",
              "      <td>...</td>\n",
              "      <td>...</td>\n",
              "      <td>...</td>\n",
              "      <td>...</td>\n",
              "      <td>...</td>\n",
              "      <td>...</td>\n",
              "      <td>...</td>\n",
              "      <td>...</td>\n",
              "      <td>...</td>\n",
              "      <td>...</td>\n",
              "      <td>...</td>\n",
              "      <td>...</td>\n",
              "      <td>...</td>\n",
              "      <td>...</td>\n",
              "    </tr>\n",
              "    <tr>\n",
              "      <th>275542</th>\n",
              "      <td>2</td>\n",
              "      <td>4</td>\n",
              "      <td>31.0</td>\n",
              "      <td>6</td>\n",
              "      <td>22</td>\n",
              "      <td>6</td>\n",
              "      <td>0</td>\n",
              "      <td>5</td>\n",
              "      <td>2</td>\n",
              "      <td>0</td>\n",
              "      <td>0</td>\n",
              "      <td>5</td>\n",
              "      <td>29</td>\n",
              "      <td>8</td>\n",
              "      <td>5</td>\n",
              "      <td>29</td>\n",
              "      <td>8</td>\n",
              "    </tr>\n",
              "    <tr>\n",
              "      <th>275543</th>\n",
              "      <td>2</td>\n",
              "      <td>4</td>\n",
              "      <td>36.0</td>\n",
              "      <td>6</td>\n",
              "      <td>0</td>\n",
              "      <td>0</td>\n",
              "      <td>0</td>\n",
              "      <td>15</td>\n",
              "      <td>0</td>\n",
              "      <td>15</td>\n",
              "      <td>0</td>\n",
              "      <td>5</td>\n",
              "      <td>29</td>\n",
              "      <td>8</td>\n",
              "      <td>5</td>\n",
              "      <td>29</td>\n",
              "      <td>8</td>\n",
              "    </tr>\n",
              "    <tr>\n",
              "      <th>275544</th>\n",
              "      <td>2</td>\n",
              "      <td>4</td>\n",
              "      <td>36.0</td>\n",
              "      <td>0</td>\n",
              "      <td>17</td>\n",
              "      <td>6</td>\n",
              "      <td>0</td>\n",
              "      <td>3</td>\n",
              "      <td>2</td>\n",
              "      <td>0</td>\n",
              "      <td>0</td>\n",
              "      <td>5</td>\n",
              "      <td>29</td>\n",
              "      <td>8</td>\n",
              "      <td>5</td>\n",
              "      <td>29</td>\n",
              "      <td>8</td>\n",
              "    </tr>\n",
              "    <tr>\n",
              "      <th>275545</th>\n",
              "      <td>5</td>\n",
              "      <td>8</td>\n",
              "      <td>36.0</td>\n",
              "      <td>3</td>\n",
              "      <td>43</td>\n",
              "      <td>3</td>\n",
              "      <td>0</td>\n",
              "      <td>5</td>\n",
              "      <td>2</td>\n",
              "      <td>0</td>\n",
              "      <td>0</td>\n",
              "      <td>5</td>\n",
              "      <td>29</td>\n",
              "      <td>8</td>\n",
              "      <td>5</td>\n",
              "      <td>29</td>\n",
              "      <td>8</td>\n",
              "    </tr>\n",
              "    <tr>\n",
              "      <th>275546</th>\n",
              "      <td>3</td>\n",
              "      <td>12</td>\n",
              "      <td>49.0</td>\n",
              "      <td>5</td>\n",
              "      <td>8</td>\n",
              "      <td>6</td>\n",
              "      <td>0</td>\n",
              "      <td>5</td>\n",
              "      <td>2</td>\n",
              "      <td>0</td>\n",
              "      <td>0</td>\n",
              "      <td>5</td>\n",
              "      <td>29</td>\n",
              "      <td>8</td>\n",
              "      <td>5</td>\n",
              "      <td>29</td>\n",
              "      <td>8</td>\n",
              "    </tr>\n",
              "  </tbody>\n",
              "</table>\n",
              "<p>275547 rows × 17 columns</p>\n",
              "</div>"
            ],
            "text/plain": [
              "        affiliate_channel  ...  month_first_active\n",
              "0                       2  ...                   2\n",
              "1                       7  ...                   4\n",
              "2                       2  ...                   5\n",
              "3                       2  ...                   9\n",
              "4                       2  ...                  11\n",
              "...                   ...  ...                 ...\n",
              "275542                  2  ...                   8\n",
              "275543                  2  ...                   8\n",
              "275544                  2  ...                   8\n",
              "275545                  5  ...                   8\n",
              "275546                  3  ...                   8\n",
              "\n",
              "[275547 rows x 17 columns]"
            ]
          },
          "metadata": {
            "tags": []
          },
          "execution_count": 76
        }
      ]
    },
    {
      "cell_type": "code",
      "metadata": {
        "id": "7FIPjo71lSZD",
        "colab_type": "code",
        "colab": {}
      },
      "source": [
        ""
      ],
      "execution_count": 0,
      "outputs": []
    }
  ]
}